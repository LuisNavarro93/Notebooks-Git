{
 "cells": [
  {
   "cell_type": "markdown",
   "metadata": {},
   "source": [
    "# Clustering Stick & Slip "
   ]
  },
  {
   "cell_type": "code",
   "execution_count": 1,
   "metadata": {},
   "outputs": [],
   "source": [
    "import pandas as pd\n",
    "import seaborn as sns\n",
    "import numpy as np\n",
    "import matplotlib.pyplot as plt\n",
    "plt.style.use('seaborn-darkgrid')\n",
    "import os "
   ]
  },
  {
   "cell_type": "code",
   "execution_count": 2,
   "metadata": {},
   "outputs": [],
   "source": [
    "def enum_index(list1):\n",
    "    return(list(zip(np.arange(len(list1)),list1)))"
   ]
  },
  {
   "cell_type": "code",
   "execution_count": 3,
   "metadata": {},
   "outputs": [
    {
     "data": {
      "text/plain": [
       "[(0, 'S&S.ipynb'),\n",
       " (1, 'DecisionTree.ipynb'),\n",
       " (2, 'BlindSet.csv'),\n",
       " (3, 'TrainingVss.csv'),\n",
       " (4, 'BlindSet.ipynb'),\n",
       " (5, '.ipynb_checkpoints'),\n",
       " (6, 'RandomForest.ipynb')]"
      ]
     },
     "execution_count": 3,
     "metadata": {},
     "output_type": "execute_result"
    }
   ],
   "source": [
    "file_path = \"Training/StickSlip/\"\n",
    "files =  os.listdir(file_path)\n",
    "enum_index(files)"
   ]
  },
  {
   "cell_type": "code",
   "execution_count": 4,
   "metadata": {},
   "outputs": [
    {
     "data": {
      "text/plain": [
       "[(0, 'DateTime'),\n",
       " (1, 'Stick_RT'),\n",
       " (2, 'BPOS'),\n",
       " (3, 'BVEL'),\n",
       " (4, 'DEPT'),\n",
       " (5, 'GR'),\n",
       " (6, 'HKLD'),\n",
       " (7, 'ROP5'),\n",
       " (8, 'RPM'),\n",
       " (9, 'Run'),\n",
       " (10, 'SPPA'),\n",
       " (11, 'SWOB'),\n",
       " (12, 'TFLO'),\n",
       " (13, 'TQA'),\n",
       " (14, 'Well'),\n",
       " (15, 'Sections'),\n",
       " (16, 'ss_severity'),\n",
       " (17, 'ss_categorical'),\n",
       " (18, 'ss_categorical_txt')]"
      ]
     },
     "execution_count": 4,
     "metadata": {},
     "output_type": "execute_result"
    }
   ],
   "source": [
    "df = pd.read_csv(file_path + files[3])\n",
    "cols = list(df.columns)\n",
    "enum_index(cols)"
   ]
  },
  {
   "cell_type": "code",
   "execution_count": 5,
   "metadata": {},
   "outputs": [],
   "source": [
    "var_cols = df.columns.difference([\"DateTime\",'Run','Well','Sections','ss_severity','ss_categorical','ss_categorical_txt'])"
   ]
  },
  {
   "cell_type": "code",
   "execution_count": 6,
   "metadata": {},
   "outputs": [
    {
     "data": {
      "text/plain": [
       "array(['None or Low', 'Medium', 'Severe', 'High'], dtype=object)"
      ]
     },
     "execution_count": 6,
     "metadata": {},
     "output_type": "execute_result"
    }
   ],
   "source": [
    "df[cols[18]].unique()"
   ]
  },
  {
   "cell_type": "code",
   "execution_count": 7,
   "metadata": {},
   "outputs": [
    {
     "data": {
      "image/png": "[encoded data removed]",
      "text/plain": [
       "<Figure size 720x360 with 1 Axes>"
      ]
     },
     "metadata": {},
     "output_type": "display_data"
    }
   ],
   "source": [
    "plt.figure(figsize=(10,5))\n",
    "plt.hist(df[cols[18]])\n",
    "plt.ylabel(\"Freq\") ; plt.xlabel(\"S&S\") ; plt.title(\"Histogram\")\n",
    "plt.show()"
   ]
  },
  {
   "cell_type": "raw",
   "metadata": {},
   "source": [
    "%%time\n",
    "sns.pairplot(df.dropna(), hue = cols[18] , height = 4 , vars = var_cols, kind = \"scatter\" )"
   ]
  },
  {
   "cell_type": "code",
   "execution_count": null,
   "metadata": {},
   "outputs": [],
   "source": []
  }
 ],
 "metadata": {
  "kernelspec": {
   "display_name": "Python 3",
   "language": "python",
   "name": "python3"
  },
  "language_info": {
   "codemirror_mode": {
    "name": "ipython",
    "version": 3
   },
   "file_extension": ".py",
   "mimetype": "text/x-python",
   "name": "python",
   "nbconvert_exporter": "python",
   "pygments_lexer": "ipython3",
   "version": "3.8.5"
  }
 },
 "nbformat": 4,
 "nbformat_minor": 4
}
