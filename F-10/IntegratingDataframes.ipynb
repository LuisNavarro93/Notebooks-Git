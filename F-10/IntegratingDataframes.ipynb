{
 "cells": [
  {
   "cell_type": "markdown",
   "metadata": {},
   "source": [
    "# Unifying `F-10`data"
   ]
  },
  {
   "cell_type": "code",
   "execution_count": 1,
   "metadata": {},
   "outputs": [
    {
     "name": "stdout",
     "output_type": "stream",
     "text": [
      "/home/luis/Desktop/Tesis/Notebooks-Git\n"
     ]
    }
   ],
   "source": [
    "cd ~/Desktop/Tesis/Notebooks-Git"
   ]
  },
  {
   "cell_type": "code",
   "execution_count": 2,
   "metadata": {},
   "outputs": [],
   "source": [
    "import Script as sc"
   ]
  },
  {
   "cell_type": "code",
   "execution_count": 3,
   "metadata": {},
   "outputs": [
    {
     "name": "stdout",
     "output_type": "stream",
     "text": [
      "/home/luis/Desktop/Tesis/F10\n"
     ]
    }
   ],
   "source": [
    "cd ~/Desktop/Tesis/F10"
   ]
  },
  {
   "cell_type": "code",
   "execution_count": 4,
   "metadata": {},
   "outputs": [],
   "source": [
    "import os\n",
    "import pandas as pd\n",
    "import seaborn as sns\n",
    "import numpy as np\n",
    "import matplotlib.pyplot as plt\n",
    "plt.style.use('seaborn-darkgrid')"
   ]
  },
  {
   "cell_type": "code",
   "execution_count": 5,
   "metadata": {},
   "outputs": [
    {
     "data": {
      "text/plain": [
       "['WL_RAW_BHPR-GR-MECH_TIME_MWD_1.LAS',\n",
       " 'WL_RAW_BHPR-GR-MECH_TIME_MWD_2.LAS',\n",
       " 'WL_RAW_BHPR-GR-MECH_TIME_MWD_3.LAS',\n",
       " 'WL_RAW_BHPR-GR-MECH_TIME_MWD_4.LAS',\n",
       " 'WL_RAW_BHPR-GR-MECH_TIME_MWD_5.LAS',\n",
       " 'WL_RAW_BHPR-GR-MECH_TIME_MWD_6.LAS',\n",
       " 'WL_RAW_BHPR-GR-MECH_TIME_MWD_7.LAS',\n",
       " 'WL_RAW_BHPR-GR-MECH_TIME_MWD_8.LAS',\n",
       " 'WL_RAW_BHPR-GR-MECH_TIME_MWD_9.LAS']"
      ]
     },
     "execution_count": 5,
     "metadata": {},
     "output_type": "execute_result"
    }
   ],
   "source": [
    "logs = os.listdir()\n",
    "logs = [s for s in logs if \".LAS\" in s]\n",
    "logs.sort()\n",
    "logs"
   ]
  },
  {
   "cell_type": "code",
   "execution_count": 6,
   "metadata": {},
   "outputs": [
    {
     "name": "stdout",
     "output_type": "stream",
     "text": [
      "/home/luis/Desktop/Tesis/F10/CSVs\n"
     ]
    }
   ],
   "source": [
    "cd ~/Desktop/Tesis/F10/CSVs"
   ]
  },
  {
   "cell_type": "code",
   "execution_count": 7,
   "metadata": {},
   "outputs": [
    {
     "data": {
      "text/plain": [
       "['WellboreF10.csv',\n",
       " 'run_10.csv',\n",
       " 'run_2.csv',\n",
       " 'run_3.csv',\n",
       " 'run_4.csv',\n",
       " 'run_5.csv',\n",
       " 'run_6.csv',\n",
       " 'run_7.csv',\n",
       " 'run_8.csv',\n",
       " 'run_9.csv']"
      ]
     },
     "execution_count": 7,
     "metadata": {},
     "output_type": "execute_result"
    }
   ],
   "source": [
    "files = os.listdir()\n",
    "files.sort()\n",
    "files"
   ]
  },
  {
   "cell_type": "code",
   "execution_count": 8,
   "metadata": {
    "scrolled": false
   },
   "outputs": [],
   "source": [
    "dfs = []\n",
    "for elements in files:\n",
    "    df = pd.read_csv(elements)\n",
    "    dfs.append(df)"
   ]
  },
  {
   "cell_type": "code",
   "execution_count": 15,
   "metadata": {},
   "outputs": [],
   "source": [
    "run_10 = dfs[0]\n",
    "run_2 = dfs[1]\n",
    "run_3 = dfs[2]\n",
    "run_4 = dfs[3]\n",
    "run_5 = dfs[4]\n",
    "run_6 = dfs[5]\n",
    "run_7 = dfs[6]\n",
    "run_8 = dfs[7]\n",
    "run_9 = dfs[8]"
   ]
  },
  {
   "cell_type": "code",
   "execution_count": 16,
   "metadata": {},
   "outputs": [
    {
     "data": {
      "text/plain": [
       "[('run_2', '26\"'),\n",
       " ('run_3', '17 1/2\"'),\n",
       " ('run_4', '17 1/2\"'),\n",
       " ('run_5', '12 1/4\"'),\n",
       " ('run_6', '12 1/4\"'),\n",
       " ('run_7', '12 1/4\"'),\n",
       " ('run_8', '8 1/2\"'),\n",
       " ('run_9', '8 1/2\"'),\n",
       " ('run_10', '8 1/2\"')]"
      ]
     },
     "execution_count": 16,
     "metadata": {},
     "output_type": "execute_result"
    }
   ],
   "source": [
    "runs = [run_2,run_3,run_4,run_5,run_6,run_7,run_8,run_9,run_10]\n",
    "runs_txt = [\"run_2\",\"run_3\",\"run_4\",\"run_5\",\"run_6\",\"run_7\",\"run_8\",\"run_9\",\"run_10\"]\n",
    "sections  =  ['26\"','17 1/2\"','17 1/2\"','12 1/4\"','12 1/4\"','12 1/4\"','8 1/2\"','8 1/2\"','8 1/2\"']\n",
    "info = list(zip(runs_txt,sections))\n",
    "info"
   ]
  },
  {
   "cell_type": "markdown",
   "metadata": {},
   "source": [
    "## Log standarization"
   ]
  },
  {
   "cell_type": "markdown",
   "metadata": {},
   "source": [
    "Logs that are constant through the BHA\n",
    "* BPOS \n",
    "* BVEL\n",
    "* DateTime\n",
    "* ROP5\n",
    "* SWOB\n",
    "* HKLD\n",
    "* TQA\n",
    "* RPM\n",
    "* Stick_RT\n",
    "* TFLO\n",
    "* SPPA\n",
    "* SHKPK_RT\n",
    "* SHKRSK_RT \n",
    "* GMRAy"
   ]
  },
  {
   "cell_type": "code",
   "execution_count": 17,
   "metadata": {
    "scrolled": false
   },
   "outputs": [
    {
     "name": "stdout",
     "output_type": "stream",
     "text": [
      "\n",
      " run_2\n",
      "Logs:\n",
      " ['BPOS' 'BVEL' 'DEPT' 'DHAP' 'DHAT' 'DateTime' 'ECD' 'GRMA_BHC_RT' 'HKLD'\n",
      " 'INCL_CONT_RT' 'ROP5' 'RPM' 'Run' 'SHKRSK_RT' 'SPPA' 'SWOB' 'Stick_RT'\n",
      " 'TFLO' 'TQA' 'TRPM_RT' 'UCAV_DH_ECO_RT' 'Well']\n",
      "\n",
      " run_3\n",
      "Logs:\n",
      " ['BPOS' 'BVEL' 'DEPT' 'DateTime' 'GRM1' 'HKLD' 'ROP5' 'RPM' 'Run'\n",
      " 'SHKPK_RT' 'SPM1' 'SPM2' 'SPM3' 'SPPA' 'STUCK_RT' 'SWOB' 'Stick_RT'\n",
      " 'TFLO' 'TQA' 'TRPM_RT' 'Well']\n",
      "\n",
      " run_4\n",
      "Logs:\n",
      " ['BLKP' 'DEPT' 'DHAT' 'DateTime' 'ECD' 'GR_CAL' 'HKLA' 'PVEL' 'ROP' 'RPM'\n",
      " 'Run' 'SHKRSK' 'SPPA' 'STICK' 'STOR' 'SWOB' 'TFLO' 'TRPM' 'Well']\n",
      "\n",
      " run_5\n",
      "Logs:\n",
      " ['BLKP' 'DEPT' 'DHAT' 'DateTime' 'ECD' 'GR_CAL' 'HKLA' 'PVEL' 'ROP' 'RPM'\n",
      " 'Run' 'SHKRSK' 'SPPA' 'STICK' 'STOR' 'SWOB' 'TFLO' 'TRPM' 'Well']\n",
      "\n",
      " run_6\n",
      "Logs:\n",
      " ['APRS_ARC' 'ARC_GR_RT' 'ATMP' 'BPOS' 'BVEL' 'CRPM_RT' 'DEPT' 'DateTime'\n",
      " 'ECD_ARC' 'HKLD' 'ROP5' 'RPM' 'Run' 'SHKPK_RT' 'SHKRSK_RT' 'SPPA' 'SWOB'\n",
      " 'Stick_RT' 'TFLO' 'TQA' 'TRPM_RT' 'Well']\n",
      "\n",
      " run_7\n",
      "Logs:\n",
      " ['APRS_ARC' 'ARC_GR_RT' 'ATMP' 'BPOS' 'BVEL' 'CRPM_RT' 'DEPT' 'DateTime'\n",
      " 'ECD_ARC' 'HKLD' 'ROP5' 'RPM' 'Run' 'SHKPK_RT' 'SHKRSK_RT' 'SPPA' 'SWOB'\n",
      " 'Stick_RT' 'TFLO' 'TQA' 'TRPM_RT' 'Well']\n",
      "\n",
      " run_8\n",
      "Logs:\n",
      " ['APRS_ARC' 'ARC_GR_RT' 'ATMP' 'BPOS' 'BVEL' 'CRPM_RT' 'DEPT' 'DateTime'\n",
      " 'ECD_ARC' 'HKLD' 'ROP5' 'RPM' 'Run' 'SHKPK_RT' 'SHKRSK_RT' 'SPPA' 'SWOB'\n",
      " 'Stick_RT' 'TFLO' 'TQA' 'TRPM_RT' 'Well']\n",
      "\n",
      " run_9\n",
      "Logs:\n",
      " ['BPOS' 'BVEL' 'DEPT' 'DHAP' 'DHAT' 'DateTime' 'ECD' 'GRMA_BHC_RT' 'HKLD'\n",
      " 'INCL_CONT_RT' 'ROP5' 'RPM' 'Run' 'SHKRSK_RT' 'SPPA' 'SWOB' 'Stick_RT'\n",
      " 'TFLO' 'TQA' 'TRPM_RT' 'UCAV_DH_ECO_RT' 'Well']\n",
      "\n",
      " run_10\n",
      "Logs:\n",
      " ['BPOS' 'BVEL' 'DEPT' 'DateTime' 'GR' 'HKLD' 'ROP5' 'RPM' 'Run' 'SPPA'\n",
      " 'SWOB' 'Stick_RT' 'TFLO' 'TQA' 'Well']\n"
     ]
    }
   ],
   "source": [
    "i = 0 \n",
    "for run in runs:\n",
    "    print(\"\\n\",runs_txt[i])\n",
    "    #run.drop([\"Flag\",\"BONB\",\"HDTH\",],inplace=True,axis=1)\n",
    "    print(\"Logs:\\n\",np.sort(run.columns))\n",
    "    i+=1    "
   ]
  },
  {
   "cell_type": "code",
   "execution_count": 18,
   "metadata": {},
   "outputs": [
    {
     "ename": "KeyError",
     "evalue": "\"['SHKPK_RT' 'SPM1' 'SPM2' 'SPM3' 'STUCK_RT'] not found in axis\"",
     "output_type": "error",
     "traceback": [
      "\u001b[0;31m---------------------------------------------------------------------------\u001b[0m",
      "\u001b[0;31mKeyError\u001b[0m                                  Traceback (most recent call last)",
      "\u001b[0;32m<ipython-input-18-b52e0c12b2ed>\u001b[0m in \u001b[0;36m<module>\u001b[0;34m\u001b[0m\n\u001b[0;32m----> 1\u001b[0;31m \u001b[0mruns\u001b[0m\u001b[0;34m[\u001b[0m\u001b[0;36m0\u001b[0m\u001b[0;34m]\u001b[0m\u001b[0;34m.\u001b[0m\u001b[0mdrop\u001b[0m\u001b[0;34m(\u001b[0m\u001b[0;34m[\u001b[0m\u001b[0;34m'SHKPK_RT'\u001b[0m\u001b[0;34m,\u001b[0m\u001b[0;34m'SPM1'\u001b[0m\u001b[0;34m,\u001b[0m\u001b[0;34m'SPM2'\u001b[0m\u001b[0;34m,\u001b[0m\u001b[0;34m'SPM3'\u001b[0m\u001b[0;34m,\u001b[0m\u001b[0;34m'STUCK_RT'\u001b[0m\u001b[0;34m,\u001b[0m\u001b[0;34m'TRPM_RT'\u001b[0m\u001b[0;34m]\u001b[0m\u001b[0;34m,\u001b[0m\u001b[0maxis\u001b[0m\u001b[0;34m=\u001b[0m\u001b[0;36m1\u001b[0m\u001b[0;34m,\u001b[0m\u001b[0minplace\u001b[0m\u001b[0;34m=\u001b[0m\u001b[0;32mTrue\u001b[0m\u001b[0;34m)\u001b[0m\u001b[0;34m\u001b[0m\u001b[0;34m\u001b[0m\u001b[0m\n\u001b[0m\u001b[1;32m      2\u001b[0m \u001b[0mruns\u001b[0m\u001b[0;34m[\u001b[0m\u001b[0;36m1\u001b[0m\u001b[0;34m]\u001b[0m\u001b[0;34m.\u001b[0m\u001b[0mdrop\u001b[0m\u001b[0;34m(\u001b[0m\u001b[0;34m[\u001b[0m\u001b[0;34m'DHAT'\u001b[0m\u001b[0;34m,\u001b[0m\u001b[0;34m'ECD'\u001b[0m\u001b[0;34m,\u001b[0m\u001b[0;34m'SHKRSK'\u001b[0m\u001b[0;34m,\u001b[0m\u001b[0;34m'TRPM'\u001b[0m\u001b[0;34m]\u001b[0m\u001b[0;34m,\u001b[0m\u001b[0maxis\u001b[0m\u001b[0;34m=\u001b[0m\u001b[0;36m1\u001b[0m\u001b[0;34m,\u001b[0m\u001b[0minplace\u001b[0m\u001b[0;34m=\u001b[0m\u001b[0;32mTrue\u001b[0m\u001b[0;34m)\u001b[0m\u001b[0;34m\u001b[0m\u001b[0;34m\u001b[0m\u001b[0m\n\u001b[1;32m      3\u001b[0m \u001b[0mruns\u001b[0m\u001b[0;34m[\u001b[0m\u001b[0;36m2\u001b[0m\u001b[0;34m]\u001b[0m\u001b[0;34m.\u001b[0m\u001b[0mdrop\u001b[0m\u001b[0;34m(\u001b[0m\u001b[0;34m[\u001b[0m\u001b[0;34m'DHAT'\u001b[0m\u001b[0;34m,\u001b[0m\u001b[0;34m'ECD'\u001b[0m\u001b[0;34m,\u001b[0m\u001b[0;34m'SHKRSK'\u001b[0m\u001b[0;34m,\u001b[0m\u001b[0;34m'TRPM'\u001b[0m\u001b[0;34m]\u001b[0m\u001b[0;34m,\u001b[0m\u001b[0maxis\u001b[0m\u001b[0;34m=\u001b[0m\u001b[0;36m1\u001b[0m\u001b[0;34m,\u001b[0m\u001b[0minplace\u001b[0m\u001b[0;34m=\u001b[0m\u001b[0;32mTrue\u001b[0m\u001b[0;34m)\u001b[0m\u001b[0;34m\u001b[0m\u001b[0;34m\u001b[0m\u001b[0m\n\u001b[1;32m      4\u001b[0m \u001b[0mruns\u001b[0m\u001b[0;34m[\u001b[0m\u001b[0;36m3\u001b[0m\u001b[0;34m]\u001b[0m\u001b[0;34m.\u001b[0m\u001b[0mdrop\u001b[0m\u001b[0;34m(\u001b[0m\u001b[0;34m[\u001b[0m\u001b[0;34m'APRS_ARC'\u001b[0m\u001b[0;34m,\u001b[0m\u001b[0;34m'ATMP'\u001b[0m\u001b[0;34m,\u001b[0m\u001b[0;34m'CRPM_RT'\u001b[0m\u001b[0;34m,\u001b[0m\u001b[0;34m'ECD_ARC'\u001b[0m\u001b[0;34m,\u001b[0m\u001b[0;34m'SHKPK_RT'\u001b[0m\u001b[0;34m,\u001b[0m\u001b[0;34m'SHKRSK_RT'\u001b[0m\u001b[0;34m,\u001b[0m\u001b[0;34m'TRPM_RT'\u001b[0m\u001b[0;34m]\u001b[0m\u001b[0;34m,\u001b[0m\u001b[0maxis\u001b[0m\u001b[0;34m=\u001b[0m\u001b[0;36m1\u001b[0m\u001b[0;34m,\u001b[0m\u001b[0minplace\u001b[0m\u001b[0;34m=\u001b[0m\u001b[0;32mTrue\u001b[0m\u001b[0;34m)\u001b[0m\u001b[0;34m\u001b[0m\u001b[0;34m\u001b[0m\u001b[0m\n\u001b[1;32m      5\u001b[0m \u001b[0mruns\u001b[0m\u001b[0;34m[\u001b[0m\u001b[0;36m4\u001b[0m\u001b[0;34m]\u001b[0m\u001b[0;34m.\u001b[0m\u001b[0mdrop\u001b[0m\u001b[0;34m(\u001b[0m\u001b[0;34m[\u001b[0m\u001b[0;34m'APRS_ARC'\u001b[0m\u001b[0;34m,\u001b[0m\u001b[0;34m'ATMP'\u001b[0m\u001b[0;34m,\u001b[0m\u001b[0;34m'CRPM_RT'\u001b[0m\u001b[0;34m,\u001b[0m\u001b[0;34m'ECD_ARC'\u001b[0m\u001b[0;34m,\u001b[0m\u001b[0;34m'SHKPK_RT'\u001b[0m\u001b[0;34m,\u001b[0m\u001b[0;34m'SHKRSK_RT'\u001b[0m\u001b[0;34m,\u001b[0m\u001b[0;34m'TRPM_RT'\u001b[0m\u001b[0;34m]\u001b[0m\u001b[0;34m,\u001b[0m\u001b[0maxis\u001b[0m\u001b[0;34m=\u001b[0m\u001b[0;36m1\u001b[0m\u001b[0;34m,\u001b[0m\u001b[0minplace\u001b[0m\u001b[0;34m=\u001b[0m\u001b[0;32mTrue\u001b[0m\u001b[0;34m)\u001b[0m\u001b[0;34m\u001b[0m\u001b[0;34m\u001b[0m\u001b[0m\n",
      "\u001b[0;32m~/anaconda3/lib/python3.8/site-packages/pandas/core/frame.py\u001b[0m in \u001b[0;36mdrop\u001b[0;34m(self, labels, axis, index, columns, level, inplace, errors)\u001b[0m\n\u001b[1;32m   4161\u001b[0m                 \u001b[0mweight\u001b[0m  \u001b[0;36m1.0\u001b[0m     \u001b[0;36m0.8\u001b[0m\u001b[0;34m\u001b[0m\u001b[0;34m\u001b[0m\u001b[0m\n\u001b[1;32m   4162\u001b[0m         \"\"\"\n\u001b[0;32m-> 4163\u001b[0;31m         return super().drop(\n\u001b[0m\u001b[1;32m   4164\u001b[0m             \u001b[0mlabels\u001b[0m\u001b[0;34m=\u001b[0m\u001b[0mlabels\u001b[0m\u001b[0;34m,\u001b[0m\u001b[0;34m\u001b[0m\u001b[0;34m\u001b[0m\u001b[0m\n\u001b[1;32m   4165\u001b[0m             \u001b[0maxis\u001b[0m\u001b[0;34m=\u001b[0m\u001b[0maxis\u001b[0m\u001b[0;34m,\u001b[0m\u001b[0;34m\u001b[0m\u001b[0;34m\u001b[0m\u001b[0m\n",
      "\u001b[0;32m~/anaconda3/lib/python3.8/site-packages/pandas/core/generic.py\u001b[0m in \u001b[0;36mdrop\u001b[0;34m(self, labels, axis, index, columns, level, inplace, errors)\u001b[0m\n\u001b[1;32m   3885\u001b[0m         \u001b[0;32mfor\u001b[0m \u001b[0maxis\u001b[0m\u001b[0;34m,\u001b[0m \u001b[0mlabels\u001b[0m \u001b[0;32min\u001b[0m \u001b[0maxes\u001b[0m\u001b[0;34m.\u001b[0m\u001b[0mitems\u001b[0m\u001b[0;34m(\u001b[0m\u001b[0;34m)\u001b[0m\u001b[0;34m:\u001b[0m\u001b[0;34m\u001b[0m\u001b[0;34m\u001b[0m\u001b[0m\n\u001b[1;32m   3886\u001b[0m             \u001b[0;32mif\u001b[0m \u001b[0mlabels\u001b[0m \u001b[0;32mis\u001b[0m \u001b[0;32mnot\u001b[0m \u001b[0;32mNone\u001b[0m\u001b[0;34m:\u001b[0m\u001b[0;34m\u001b[0m\u001b[0;34m\u001b[0m\u001b[0m\n\u001b[0;32m-> 3887\u001b[0;31m                 \u001b[0mobj\u001b[0m \u001b[0;34m=\u001b[0m \u001b[0mobj\u001b[0m\u001b[0;34m.\u001b[0m\u001b[0m_drop_axis\u001b[0m\u001b[0;34m(\u001b[0m\u001b[0mlabels\u001b[0m\u001b[0;34m,\u001b[0m \u001b[0maxis\u001b[0m\u001b[0;34m,\u001b[0m \u001b[0mlevel\u001b[0m\u001b[0;34m=\u001b[0m\u001b[0mlevel\u001b[0m\u001b[0;34m,\u001b[0m \u001b[0merrors\u001b[0m\u001b[0;34m=\u001b[0m\u001b[0merrors\u001b[0m\u001b[0;34m)\u001b[0m\u001b[0;34m\u001b[0m\u001b[0;34m\u001b[0m\u001b[0m\n\u001b[0m\u001b[1;32m   3888\u001b[0m \u001b[0;34m\u001b[0m\u001b[0m\n\u001b[1;32m   3889\u001b[0m         \u001b[0;32mif\u001b[0m \u001b[0minplace\u001b[0m\u001b[0;34m:\u001b[0m\u001b[0;34m\u001b[0m\u001b[0;34m\u001b[0m\u001b[0m\n",
      "\u001b[0;32m~/anaconda3/lib/python3.8/site-packages/pandas/core/generic.py\u001b[0m in \u001b[0;36m_drop_axis\u001b[0;34m(self, labels, axis, level, errors)\u001b[0m\n\u001b[1;32m   3919\u001b[0m                 \u001b[0mnew_axis\u001b[0m \u001b[0;34m=\u001b[0m \u001b[0maxis\u001b[0m\u001b[0;34m.\u001b[0m\u001b[0mdrop\u001b[0m\u001b[0;34m(\u001b[0m\u001b[0mlabels\u001b[0m\u001b[0;34m,\u001b[0m \u001b[0mlevel\u001b[0m\u001b[0;34m=\u001b[0m\u001b[0mlevel\u001b[0m\u001b[0;34m,\u001b[0m \u001b[0merrors\u001b[0m\u001b[0;34m=\u001b[0m\u001b[0merrors\u001b[0m\u001b[0;34m)\u001b[0m\u001b[0;34m\u001b[0m\u001b[0;34m\u001b[0m\u001b[0m\n\u001b[1;32m   3920\u001b[0m             \u001b[0;32melse\u001b[0m\u001b[0;34m:\u001b[0m\u001b[0;34m\u001b[0m\u001b[0;34m\u001b[0m\u001b[0m\n\u001b[0;32m-> 3921\u001b[0;31m                 \u001b[0mnew_axis\u001b[0m \u001b[0;34m=\u001b[0m \u001b[0maxis\u001b[0m\u001b[0;34m.\u001b[0m\u001b[0mdrop\u001b[0m\u001b[0;34m(\u001b[0m\u001b[0mlabels\u001b[0m\u001b[0;34m,\u001b[0m \u001b[0merrors\u001b[0m\u001b[0;34m=\u001b[0m\u001b[0merrors\u001b[0m\u001b[0;34m)\u001b[0m\u001b[0;34m\u001b[0m\u001b[0;34m\u001b[0m\u001b[0m\n\u001b[0m\u001b[1;32m   3922\u001b[0m             \u001b[0mresult\u001b[0m \u001b[0;34m=\u001b[0m \u001b[0mself\u001b[0m\u001b[0;34m.\u001b[0m\u001b[0mreindex\u001b[0m\u001b[0;34m(\u001b[0m\u001b[0;34m**\u001b[0m\u001b[0;34m{\u001b[0m\u001b[0maxis_name\u001b[0m\u001b[0;34m:\u001b[0m \u001b[0mnew_axis\u001b[0m\u001b[0;34m}\u001b[0m\u001b[0;34m)\u001b[0m\u001b[0;34m\u001b[0m\u001b[0;34m\u001b[0m\u001b[0m\n\u001b[1;32m   3923\u001b[0m \u001b[0;34m\u001b[0m\u001b[0m\n",
      "\u001b[0;32m~/anaconda3/lib/python3.8/site-packages/pandas/core/indexes/base.py\u001b[0m in \u001b[0;36mdrop\u001b[0;34m(self, labels, errors)\u001b[0m\n\u001b[1;32m   5280\u001b[0m         \u001b[0;32mif\u001b[0m \u001b[0mmask\u001b[0m\u001b[0;34m.\u001b[0m\u001b[0many\u001b[0m\u001b[0;34m(\u001b[0m\u001b[0;34m)\u001b[0m\u001b[0;34m:\u001b[0m\u001b[0;34m\u001b[0m\u001b[0;34m\u001b[0m\u001b[0m\n\u001b[1;32m   5281\u001b[0m             \u001b[0;32mif\u001b[0m \u001b[0merrors\u001b[0m \u001b[0;34m!=\u001b[0m \u001b[0;34m\"ignore\"\u001b[0m\u001b[0;34m:\u001b[0m\u001b[0;34m\u001b[0m\u001b[0;34m\u001b[0m\u001b[0m\n\u001b[0;32m-> 5282\u001b[0;31m                 \u001b[0;32mraise\u001b[0m \u001b[0mKeyError\u001b[0m\u001b[0;34m(\u001b[0m\u001b[0;34mf\"{labels[mask]} not found in axis\"\u001b[0m\u001b[0;34m)\u001b[0m\u001b[0;34m\u001b[0m\u001b[0;34m\u001b[0m\u001b[0m\n\u001b[0m\u001b[1;32m   5283\u001b[0m             \u001b[0mindexer\u001b[0m \u001b[0;34m=\u001b[0m \u001b[0mindexer\u001b[0m\u001b[0;34m[\u001b[0m\u001b[0;34m~\u001b[0m\u001b[0mmask\u001b[0m\u001b[0;34m]\u001b[0m\u001b[0;34m\u001b[0m\u001b[0;34m\u001b[0m\u001b[0m\n\u001b[1;32m   5284\u001b[0m         \u001b[0;32mreturn\u001b[0m \u001b[0mself\u001b[0m\u001b[0;34m.\u001b[0m\u001b[0mdelete\u001b[0m\u001b[0;34m(\u001b[0m\u001b[0mindexer\u001b[0m\u001b[0;34m)\u001b[0m\u001b[0;34m\u001b[0m\u001b[0;34m\u001b[0m\u001b[0m\n",
      "\u001b[0;31mKeyError\u001b[0m: \"['SHKPK_RT' 'SPM1' 'SPM2' 'SPM3' 'STUCK_RT'] not found in axis\""
     ]
    }
   ],
   "source": [
    "runs[0].drop(['SHKPK_RT','SPM1','SPM2','SPM3','STUCK_RT','TRPM_RT'],axis=1,inplace=True)\n",
    "runs[1].drop(['DHAT','ECD','SHKRSK','TRPM'],axis=1,inplace=True)\n",
    "runs[2].drop(['DHAT','ECD','SHKRSK','TRPM'],axis=1,inplace=True)\n",
    "runs[3].drop(['APRS_ARC','ATMP','CRPM_RT','ECD_ARC','SHKPK_RT','SHKRSK_RT','TRPM_RT'],axis=1,inplace=True)\n",
    "runs[4].drop(['APRS_ARC','ATMP','CRPM_RT','ECD_ARC','SHKPK_RT','SHKRSK_RT','TRPM_RT'],axis=1,inplace=True)\n",
    "runs[5].drop(['APRS_ARC','ATMP','CRPM_RT','ECD_ARC','SHKPK_RT','SHKRSK_RT','TRPM_RT'],axis=1,inplace=True)\n",
    "runs[6].drop(['DHAP','DHAT','ECD','INCL_CONT_RT','SHKRSK_RT','TRPM_RT','UCAV_DH_ECO_RT'],axis=1,inplace=True)\n",
    "runs[7].drop(['INCL_CONT_RT','SHKRSK_RT','TRPM_RT'],axis=1,inplace=True)\n",
    "runs[8].drop(['DHAP','DHAT','ECD','INCL_CONT_RT','TRPM_RT','UCAV_DH_ECO_RT','SHKRSK_RT'],axis=1,inplace=True)"
   ]
  },
  {
   "cell_type": "code",
   "execution_count": 13,
   "metadata": {
    "scrolled": true
   },
   "outputs": [
    {
     "name": "stdout",
     "output_type": "stream",
     "text": [
      "\n",
      " run_2\n",
      "Logs:\n",
      " ['BPOS' 'BVEL' 'DEPT' 'DHAP' 'DHAT' 'DateTime' 'ECD' 'GRMA_BHC_RT' 'HKLD'\n",
      " 'INCL_CONT_RT' 'ROP5' 'RPM' 'Run' 'SHKRSK_RT' 'SPPA' 'SWOB' 'Stick_RT'\n",
      " 'TFLO' 'TQA' 'TRPM_RT' 'UCAV_DH_ECO_RT' 'Well']\n",
      "\n",
      " run_3\n",
      "Logs:\n",
      " ['BPOS' 'BVEL' 'DEPT' 'DateTime' 'GRM1' 'HKLD' 'ROP5' 'RPM' 'Run'\n",
      " 'SHKPK_RT' 'SPM1' 'SPM2' 'SPM3' 'SPPA' 'STUCK_RT' 'SWOB' 'Stick_RT'\n",
      " 'TFLO' 'TQA' 'TRPM_RT' 'Well']\n",
      "\n",
      " run_4\n",
      "Logs:\n",
      " ['BLKP' 'DEPT' 'DHAT' 'DateTime' 'ECD' 'GR_CAL' 'HKLA' 'PVEL' 'ROP' 'RPM'\n",
      " 'Run' 'SHKRSK' 'SPPA' 'STICK' 'STOR' 'SWOB' 'TFLO' 'TRPM' 'Well']\n",
      "\n",
      " run_5\n",
      "Logs:\n",
      " ['BLKP' 'DEPT' 'DHAT' 'DateTime' 'ECD' 'GR_CAL' 'HKLA' 'PVEL' 'ROP' 'RPM'\n",
      " 'Run' 'SHKRSK' 'SPPA' 'STICK' 'STOR' 'SWOB' 'TFLO' 'TRPM' 'Well']\n",
      "\n",
      " run_6\n",
      "Logs:\n",
      " ['APRS_ARC' 'ARC_GR_RT' 'ATMP' 'BPOS' 'BVEL' 'CRPM_RT' 'DEPT' 'DateTime'\n",
      " 'ECD_ARC' 'HKLD' 'ROP5' 'RPM' 'Run' 'SHKPK_RT' 'SHKRSK_RT' 'SPPA' 'SWOB'\n",
      " 'Stick_RT' 'TFLO' 'TQA' 'TRPM_RT' 'Well']\n",
      "\n",
      " run_7\n",
      "Logs:\n",
      " ['APRS_ARC' 'ARC_GR_RT' 'ATMP' 'BPOS' 'BVEL' 'CRPM_RT' 'DEPT' 'DateTime'\n",
      " 'ECD_ARC' 'HKLD' 'ROP5' 'RPM' 'Run' 'SHKPK_RT' 'SHKRSK_RT' 'SPPA' 'SWOB'\n",
      " 'Stick_RT' 'TFLO' 'TQA' 'TRPM_RT' 'Well']\n",
      "\n",
      " run_8\n",
      "Logs:\n",
      " ['APRS_ARC' 'ARC_GR_RT' 'ATMP' 'BPOS' 'BVEL' 'CRPM_RT' 'DEPT' 'DateTime'\n",
      " 'ECD_ARC' 'HKLD' 'ROP5' 'RPM' 'Run' 'SHKPK_RT' 'SHKRSK_RT' 'SPPA' 'SWOB'\n",
      " 'Stick_RT' 'TFLO' 'TQA' 'TRPM_RT' 'Well']\n",
      "\n",
      " run_9\n",
      "Logs:\n",
      " ['BPOS' 'BVEL' 'DEPT' 'DHAP' 'DHAT' 'DateTime' 'ECD' 'GRMA_BHC_RT' 'HKLD'\n",
      " 'INCL_CONT_RT' 'ROP5' 'RPM' 'Run' 'SHKRSK_RT' 'SPPA' 'SWOB' 'Stick_RT'\n",
      " 'TFLO' 'TQA' 'TRPM_RT' 'UCAV_DH_ECO_RT' 'Well']\n",
      "\n",
      " run_10\n",
      "Logs:\n",
      " ['BPOS' 'BVEL' 'DEPT' 'DateTime' 'GR' 'HKLD' 'ROP5' 'RPM' 'Run' 'SPPA'\n",
      " 'SWOB' 'Stick_RT' 'TFLO' 'TQA' 'Well']\n"
     ]
    }
   ],
   "source": [
    "i = 0 \n",
    "for run in runs:\n",
    "    print(\"\\n\",runs_txt[i])\n",
    "    print(\"Logs:\\n\",np.sort(run.columns.values))\n",
    "    i+=1"
   ]
  },
  {
   "cell_type": "code",
   "execution_count": null,
   "metadata": {},
   "outputs": [],
   "source": [
    "runs[0].rename({'GRM1':\"GR\"},axis=1,inplace=True)\n",
    "runs[1].rename({'BLKP':'BPOS','GR_CAL':\"GR\",'HKLA':'HKLD','PVEL':'BVEL','STOR':'TQA','ROP':'ROP5','STICK':'Stick_RT'},axis=1,inplace=True)\n",
    "runs[2].rename({'BLKP':'BPOS','GR_CAL':\"GR\",'HKLA':'HKLD','PVEL':'BVEL','STOR':'TQA','ROP':'ROP5','STICK':'Stick_RT'},axis=1,inplace=True)\n",
    "runs[3].rename({'ARC_GR_RT':'GR'},axis=1,inplace=True)\n",
    "runs[4].rename({'ARC_GR_RT':'GR'},axis=1,inplace=True)\n",
    "runs[5].rename({'ARC_GR_RT':'GR'},axis=1,inplace=True)\n",
    "runs[6].rename({'GRMA_BHC_RT':'GR'},axis=1,inplace=True)\n",
    "runs[8].rename({'GRMA_BHC_RT':'GR'},axis=1,inplace=True)"
   ]
  },
  {
   "cell_type": "code",
   "execution_count": null,
   "metadata": {},
   "outputs": [],
   "source": [
    "runs[1].rename({'STICK':'Stick_RT'},axis=1,inplace=True)\n",
    "runs[2].rename({'STICK':'Stick_RT'},axis=1,inplace=True)"
   ]
  },
  {
   "cell_type": "code",
   "execution_count": null,
   "metadata": {},
   "outputs": [],
   "source": [
    "for run in runs:\n",
    "    try:\n",
    "        cols = ['BPOS', 'BVEL', 'DEPT', 'DateTime','GR', 'HKLD', 'ROP5','RPM', 'Run', 'SPPA', 'SWOB', 'Stick_RT','TFLO', 'TQA', 'Well']\n",
    "        run = run.reindex(columns=cols)\n",
    "    except:\n",
    "        print(\"\")"
   ]
  },
  {
   "cell_type": "code",
   "execution_count": null,
   "metadata": {},
   "outputs": [],
   "source": [
    "i = 0 \n",
    "for run in runs:\n",
    "    print(\"\\n\",runs_txt[i])\n",
    "    print(\"Logs:\\n\",np.sort(run.columns.values))\n",
    "    i+=1"
   ]
  },
  {
   "cell_type": "code",
   "execution_count": null,
   "metadata": {},
   "outputs": [],
   "source": [
    "try:\n",
    "    sc.boxplt_logs(runs,\"GR\",\"Gamma Ray\",info)\n",
    "except:\n",
    "    print(\"\")"
   ]
  },
  {
   "cell_type": "code",
   "execution_count": null,
   "metadata": {},
   "outputs": [],
   "source": [
    "cols = runs[0].columns.difference([\"DateTime\",\"Run\",\"Well\",\"GR\"])"
   ]
  },
  {
   "cell_type": "code",
   "execution_count": null,
   "metadata": {},
   "outputs": [],
   "source": [
    "cols"
   ]
  },
  {
   "cell_type": "code",
   "execution_count": null,
   "metadata": {
    "scrolled": false
   },
   "outputs": [],
   "source": [
    "i = 0\n",
    "for log in cols:\n",
    "    sc.boxplt_logs(runs,cols[i],cols[i],info)\n",
    "    i+=1"
   ]
  },
  {
   "cell_type": "markdown",
   "metadata": {},
   "source": [
    "## Concatenating"
   ]
  },
  {
   "cell_type": "code",
   "execution_count": null,
   "metadata": {},
   "outputs": [],
   "source": [
    "runs.pop(7)"
   ]
  },
  {
   "cell_type": "code",
   "execution_count": null,
   "metadata": {},
   "outputs": [],
   "source": [
    "sc.boxplt_logs(runs,\"GR\",\"Gamma Ray\",info)"
   ]
  },
  {
   "cell_type": "code",
   "execution_count": null,
   "metadata": {},
   "outputs": [],
   "source": [
    "df = pd.concat(runs)"
   ]
  },
  {
   "cell_type": "code",
   "execution_count": null,
   "metadata": {},
   "outputs": [],
   "source": [
    "df.info()"
   ]
  },
  {
   "cell_type": "code",
   "execution_count": null,
   "metadata": {},
   "outputs": [],
   "source": [
    "df[\"DateTime\"] = pd.to_datetime(df[\"DateTime\"])\n",
    "cols = df.columns.difference([\"Run\",\"Well\"])\n",
    "plt_df = pd.DataFrame(df,columns = cols)"
   ]
  },
  {
   "cell_type": "code",
   "execution_count": null,
   "metadata": {},
   "outputs": [],
   "source": [
    "%%time\n",
    "sc.well_plt(plt_df,[\"Whole\",\"Whole\"])"
   ]
  },
  {
   "cell_type": "code",
   "execution_count": null,
   "metadata": {},
   "outputs": [],
   "source": [
    "df.to_csv(r\"WellboreF10.csv\",index=False)"
   ]
  },
  {
   "cell_type": "code",
   "execution_count": 19,
   "metadata": {},
   "outputs": [
    {
     "name": "stdout",
     "output_type": "stream",
     "text": [
      "run_10.csv  run_3.csv  run_5.csv  run_7.csv  run_9.csv\r\n",
      "run_2.csv   run_4.csv  run_6.csv  run_8.csv  WellboreF10.csv\r\n"
     ]
    }
   ],
   "source": [
    "ls"
   ]
  },
  {
   "cell_type": "code",
   "execution_count": 20,
   "metadata": {},
   "outputs": [],
   "source": [
    "wellbore = pd.read_csv(\"WellboreF10.csv\")"
   ]
  },
  {
   "cell_type": "code",
   "execution_count": 21,
   "metadata": {},
   "outputs": [
    {
     "data": {
      "text/plain": [
       "Index(['DEPT', 'BPOS', 'BVEL', 'GR', 'HKLD', 'ROP5', 'SWOB', 'RPM', 'TQA',\n",
       "       'SPPA', 'TFLO', 'Stick_RT', 'DateTime', 'Well', 'Run'],\n",
       "      dtype='object')"
      ]
     },
     "execution_count": 21,
     "metadata": {},
     "output_type": "execute_result"
    }
   ],
   "source": [
    "wellbore.columns"
   ]
  },
  {
   "cell_type": "code",
   "execution_count": null,
   "metadata": {
    "collapsed": true
   },
   "outputs": [],
   "source": []
  },
  {
   "cell_type": "code",
   "execution_count": 22,
   "metadata": {},
   "outputs": [
    {
     "data": {
      "text/plain": [
       "[<matplotlib.lines.Line2D at 0x7f2a47003760>]"
      ]
     },
     "execution_count": 22,
     "metadata": {},
     "output_type": "execute_result"
    },
    {
     "data": {
      "image/png": "[encoded data removed]",
      "text/plain": [
       "<Figure size 576x396 with 1 Axes>"
      ]
     },
     "metadata": {},
     "output_type": "display_data"
    }
   ],
   "source": [
    "plt.plot(wellbore[\"DEPT\"],wellbore[\"Stick_RT\"])"
   ]
  },
  {
   "cell_type": "code",
   "execution_count": null,
   "metadata": {},
   "outputs": [],
   "source": []
  }
 ],
 "metadata": {
  "kernelspec": {
   "display_name": "Python 3",
   "language": "python",
   "name": "python3"
  },
  "language_info": {
   "codemirror_mode": {
    "name": "ipython",
    "version": 3
   },
   "file_extension": ".py",
   "mimetype": "text/x-python",
   "name": "python",
   "nbconvert_exporter": "python",
   "pygments_lexer": "ipython3",
   "version": "3.8.5"
  }
 },
 "nbformat": 4,
 "nbformat_minor": 4
}
