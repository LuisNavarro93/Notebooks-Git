{
 "cells": [
  {
   "cell_type": "markdown",
   "metadata": {},
   "source": [
    "# Unifying `F-12`data"
   ]
  },
  {
   "cell_type": "code",
   "execution_count": 1,
   "metadata": {},
   "outputs": [
    {
     "name": "stdout",
     "output_type": "stream",
     "text": [
      "/home/luis/Desktop/Tesis/Notebooks-Git\n"
     ]
    }
   ],
   "source": [
    "cd ~/Desktop/Tesis/Notebooks-Git"
   ]
  },
  {
   "cell_type": "code",
   "execution_count": 2,
   "metadata": {},
   "outputs": [],
   "source": [
    "import Script as sc"
   ]
  },
  {
   "cell_type": "code",
   "execution_count": 3,
   "metadata": {},
   "outputs": [
    {
     "name": "stdout",
     "output_type": "stream",
     "text": [
      "/home/luis/Desktop/Tesis/F12\n"
     ]
    }
   ],
   "source": [
    "cd ~/Desktop/Tesis/F12"
   ]
  },
  {
   "cell_type": "code",
   "execution_count": 4,
   "metadata": {},
   "outputs": [],
   "source": [
    "import os\n",
    "import pandas as pd\n",
    "import seaborn as sns\n",
    "import numpy as np\n",
    "import matplotlib.pyplot as plt\n",
    "plt.style.use('seaborn-darkgrid')"
   ]
  },
  {
   "cell_type": "code",
   "execution_count": 5,
   "metadata": {},
   "outputs": [
    {
     "data": {
      "text/plain": [
       "['WL_RAW_BHPR-GR-MECH_TIME_MWD_1.LAS',\n",
       " 'WL_RAW_BHPR-GR-MECH_TIME_MWD_2.LAS',\n",
       " 'WL_RAW_BHPR-GR-MECH_TIME_MWD_3.LAS',\n",
       " 'WL_RAW_BHPR-GR-MECH_TIME_MWD_4.LAS',\n",
       " 'WL_RAW_BHPR-GR-MECH_TIME_MWD_5.LAS',\n",
       " 'WL_RAW_BHPR-GR-MECH_TIME_MWD_6.LAS']"
      ]
     },
     "execution_count": 5,
     "metadata": {},
     "output_type": "execute_result"
    }
   ],
   "source": [
    "logs = os.listdir()\n",
    "logs = [s for s in logs if \".LAS\" in s]\n",
    "logs.sort()\n",
    "logs"
   ]
  },
  {
   "cell_type": "code",
   "execution_count": 6,
   "metadata": {
    "scrolled": false
   },
   "outputs": [
    {
     "name": "stdout",
     "output_type": "stream",
     "text": [
      "\n",
      "Run_2\n",
      "File: WL_RAW_BHPR-GR-MECH_TIME_MWD_1.LAS\n",
      "TIME\t    .HHMMSS\t       :\n",
      "DATE\t    .D\t\t       :\n",
      "DEPT        .M                 : Bit Depth 2hz\n",
      "BPOS        .M                 : Block Position 2hz\n",
      "BVEL        .M/S               : Block Velocity 2hz\n",
      "ROP5        .M/HR              : 5ft ROP 2hz\n",
      "HKLD        .KKGF              : Measured Hookload 2hz\n",
      "SWOB        .KKGF              : Surface Weight on Bit 2hz\n",
      "TQA         .KMDN              : SRF STOR 2hz\n",
      "RPM         .RPM               : SRF SRPM 2hz\n",
      "TFLO        .LPM               : HSPM Total Pump Flow 2hz\n",
      "TRPM_RT     .RPM               : MWD TUR_RPM 2hz\n",
      "SPPA        .BAR               : SRF PUMPRS 2hz\n",
      "ECD_ARC_RT  .G/C3              : ARC ECD 2hz\n",
      "SHK_ADN_RT  .----              : ADN Shock Level, Real-Time\n",
      "ARC_GR_RT   .GAPI              : ARC Gamma Ray, Real-Time\n",
      "DRHO_DH_ADN_RT.G/C3              : Bulk Density Correction, Real-Time Computed Downhole\n",
      "RHOB_DH_ADN_RT.G/C3              : Bulk Density, Real-Time Computed Downhole\n",
      "SHKRSK_RT   .----              : MWD SHKRSK 2hz\n",
      "#\n",
      "\n",
      "Run_3\n",
      "File: WL_RAW_BHPR-GR-MECH_TIME_MWD_2.LAS\n",
      "TIME\t    .HHMMSS\t       :\n",
      "DATE\t    .D\t\t       :\n",
      "ROP5        .M/HR              : 5ft ROP 2hz\n",
      "HKLD        .KKGF              : Measured Hookload 2hz\n",
      "BPOS        .M                 : Block Position 2hz\n",
      "BVEL        .M/S               : Block Velocity 2hz\n",
      "SWOB        .KKGF              : Surface Weight on Bit 2hz\n",
      "TQA         .KMDN              : SRF STOR 2hz\n",
      "CRPM_RT     .RPM               : MWD CRPM 2hz\n",
      "RPM         .RPM               : SRF SRPM 2hz\n",
      "Stick_RT    .RPM               : MWD PKtoPK RPM 2hz\n",
      "TRPM_RT     .RPM               : MWD TUR_RPM 2hz\n",
      "TFLO        .LPM               : HSPM Total Pump Flow 2hz\n",
      "ATMP        .DEGC              : ARC Annular Temperature\n",
      "APRS_ARC    .PSI               : ARC Annular Pressure\n",
      "ECD_ARC     .G/C3              : Equivalent Circulating Density\n",
      "SPPA        .KPA               : SRF PUMPRS 2hz\n",
      "SHKRSK_RT   .----              : MWD SHKRSK 2hz\n",
      "SHK2_RT     .----              : ARC Shock Level, Real-Time\n",
      "#\n",
      "\n",
      "Run_4\n",
      "File: WL_RAW_BHPR-GR-MECH_TIME_MWD_3.LAS\n",
      "TIME\t    .HHMMSS\t       :\n",
      "DATE\t    .D\t\t       :\n",
      "DEPT        .M                 : Bit Depth 2hz\n",
      "ROP5        .M/HR              : 5ft ROP 2hz\n",
      "ARC_GR_RT   .GAPI              : ARC Gamma Ray, Real-Time\n",
      "PD_GRAV_BHC .GAPI              : PD GRAV BHC 2hz\n",
      "INCL_CONT_RT.DEG               : MWD Cont Inc 2hz\n",
      "PDINCL      .DEG               : PowerDrive Inlination 2hz\n",
      "HKLD        .KKGF              : Measured Hookload 2hz\n",
      "SWOB        .KKGF              : Surface Weight on Bit 2hz\n",
      "TQA         .KMN               : SRF STOR 2hz\n",
      "RPM         .RPM               : SRF SRPM 2hz\n",
      "BVEL        .M/S               : Block Velocity 2hz\n",
      "BPOS        .M                 : Block Position 2hz\n",
      "TFLO        .LPM               : HSPM Total Pump Flow 2hz\n",
      "TRPM_RT     .RPM               : MWD TUR_RPM 2hz\n",
      "ECD_ARC     .G/C3              : Equivalent Circulating Density\n",
      "APRS_ARC    .BAR               : ARC Annular Pressure\n",
      "ATMP        .DEGC              : ARC Annular Temperature\n",
      "SHKRSK_RT   .----              : MWD SHKRSK 2hz\n",
      "SHK2_RT     .----              : ARC Shock Level, Real-Time\n",
      "SHK_ADN_RT  .----              : ADN Shock Level, Real-Time\n",
      "PDSHKRSK    .----              : PowerDrive Shock Risk 2hz\n",
      "#\n",
      "\n",
      "Run_5\n",
      "File: WL_RAW_BHPR-GR-MECH_TIME_MWD_4.LAS\n",
      "TIME\t    .HHMMSS\t       :\n",
      "DATE\t    .D\t\t       :\n",
      "DEPT        .M                 : Bit Depth 2hz\n",
      "ROP5        .M/HR              : 5ft ROP 2hz\n",
      "ARC_GR_RT   .GAPI              : ARC Gamma Ray, Real-Time\n",
      "PD_GRAV_BHC .GAPI              : PD GRAV BHC 2hz\n",
      "INCL_CONT_RT.DEG               : MWD Cont Inc 2hz\n",
      "PDINCL      .DEG               : PowerDrive Inlination 2hz\n",
      "HKLD        .KKGF              : Measured Hookload 2hz\n",
      "SWOB        .KKGF              : Surface Weight on Bit 2hz\n",
      "TQA         .KMN               : SRF STOR 2hz\n",
      "RPM         .RPM               : SRF SRPM 2hz\n",
      "BVEL        .M/S               : Block Velocity 2hz\n",
      "BPOS        .M                 : Block Position 2hz\n",
      "TFLO        .LPM               : HSPM Total Pump Flow 2hz\n",
      "TRPM_RT     .RPM               : MWD TUR_RPM 2hz\n",
      "ECD_ARC     .G/C3              : Equivalent Circulating Density\n",
      "APRS_ARC    .BAR               : ARC Annular Pressure\n",
      "ATMP        .DEGC              : ARC Annular Temperature\n",
      "SHKRSK_RT   .----              : MWD SHKRSK 2hz\n",
      "SHK2_RT     .----              : ARC Shock Level, Real-Time\n",
      "SHK_ADN_RT  .----              : ADN Shock Level, Real-Time\n",
      "PDSHKRSK    .----              : PowerDrive Shock Risk 2hz\n",
      "#\n",
      "\n",
      "Run_6\n",
      "File: WL_RAW_BHPR-GR-MECH_TIME_MWD_5.LAS\n",
      "TIME\t    .HHMMSS\t       :\n",
      "DATE\t    .D\t\t       :\n",
      "DEPT        .M                 : Bit Depth 2hz\n",
      "ROP5        .M/HR              : 5ft ROP 2hz\n",
      "ARC_GR_RT   .GAPI              : ARC Gamma Ray, Real-Time\n",
      "PD_GRAV_BHC .GAPI              : PD GRAV BHC 2hz\n",
      "INCL_CONT_RT.DEG               : MWD Cont Inc 2hz\n",
      "PDINCL      .DEG               : PowerDrive Inlination 2hz\n",
      "HKLD        .KLBF              : Measured Hookload 2hz\n",
      "SWOB        .KLBF              : Surface Weight on Bit 2hz\n",
      "TQA         .KMN               : SRF STOR 2hz\n",
      "RPM         .RPM               : SRF SRPM 2hz\n",
      "BVEL        .M/S               : Block Velocity 2hz\n",
      "BPOS        .M                 : Block Position 2hz\n",
      "TFLO        .LPM               : HSPM Total Pump Flow 2hz\n",
      "TRPM_RT     .RPM               : MWD TUR_RPM 2hz\n",
      "ATMP        .DEGC              : ARC Annular Temperature\n",
      "ECD_ARC     .G/C3              : Equivalent Circulating Density\n",
      "SHKRSK_RT   .----              : MWD SHKRSK 2hz\n",
      "SHK2_RT     .----              : ARC Shock Level, Real-Time\n",
      "SHK_ADN_RT  .----              : ADN Shock Level, Real-Time\n",
      "PDSHKRSK    .----              : PowerDrive Shock Risk 2hz\n",
      "#\n",
      "\n",
      "Run_7\n",
      "File: WL_RAW_BHPR-GR-MECH_TIME_MWD_6.LAS\n",
      "TIME\t    .HHMMSS\t       :\n",
      "DATE\t    .D\t\t       :\n",
      "DEPT        .M                 : Bit Depth 2hz\n",
      "BPOS        .M                 : Block Position 2hz\n",
      "ROP5        .M/HR              : 5ft ROP 2hz\n",
      "PDINCL      .DEG               : PowerDrive Inlination 2hz\n",
      "INCL_CONT_RT.DEG               : MWD Cont Inc 2hz\n",
      "SRPM_RT     .----              : ADN RPM Standard Deviation, Real-Time\n",
      "TQA         .KMDN              : SRF STOR 2hz\n",
      "SWOB        .KKGF              : Surface Weight on Bit 2hz\n",
      "HKLD        .KKGF              : Measured Hookload 2hz\n",
      "Stick_RT    .RPM               : MWD PKtoPK RPM 2hz\n",
      "SHKRSK_RT   .----              : MWD SHKRSK 2hz\n",
      "CRPM        .RPM               : Slimpulse Collar RPM\n",
      "TRPM        .RPM               : Tool Rotation RPM.\n",
      "TFLO        .LPM               : HSPM Total Pump Flow 2hz\n",
      "BVEL        .M/S               : Block Velocity 2hz\n",
      "BONB        .----              : On Bottom stat (1=Off,0=On) 2hz\n",
      "SPPA        .KPA               : SRF PUMPRS 2hz\n",
      "DHAP        .KPA               : Downhole Annulus Pressure\n",
      "DHAT        .DEGC              : Downhole Annulus Temperature\n",
      "ECD         .G/C3              : Equivalent Circulating Density\n",
      "#\n"
     ]
    }
   ],
   "source": [
    "i = 2\n",
    "for las in logs:\n",
    "    print(\"\\nRun_\"+str(i))\n",
    "    sc.logs_LAS(las)\n",
    "    i+=1"
   ]
  },
  {
   "cell_type": "code",
   "execution_count": 7,
   "metadata": {},
   "outputs": [
    {
     "name": "stdout",
     "output_type": "stream",
     "text": [
      "/home/luis/Desktop/Tesis/F12/CSVs\n"
     ]
    }
   ],
   "source": [
    "cd ~/Desktop/Tesis/F12/CSVs"
   ]
  },
  {
   "cell_type": "code",
   "execution_count": 8,
   "metadata": {},
   "outputs": [
    {
     "data": {
      "text/plain": [
       "['run_0.csv', 'run_1.csv', 'run_2.csv', 'run_3.csv']"
      ]
     },
     "execution_count": 8,
     "metadata": {},
     "output_type": "execute_result"
    }
   ],
   "source": [
    "files = os.listdir()\n",
    "files.sort()\n",
    "files"
   ]
  },
  {
   "cell_type": "code",
   "execution_count": 9,
   "metadata": {
    "scrolled": false
   },
   "outputs": [],
   "source": [
    "dfs = []\n",
    "for elements in files:\n",
    "    df = pd.read_csv(elements)\n",
    "    dfs.append(df)"
   ]
  },
  {
   "cell_type": "code",
   "execution_count": 10,
   "metadata": {},
   "outputs": [],
   "source": [
    "run_3 = dfs[0]\n",
    "run_4 = dfs[1]\n",
    "run_5 = dfs[2]"
   ]
  },
  {
   "cell_type": "code",
   "execution_count": 11,
   "metadata": {},
   "outputs": [
    {
     "data": {
      "text/plain": [
       "[('run_3', '17 1/2\"'), ('run_4', '12 1/4\"'), ('run_5', '8 1/2\"')]"
      ]
     },
     "execution_count": 11,
     "metadata": {},
     "output_type": "execute_result"
    }
   ],
   "source": [
    "runs = [run_3,run_4,run_5]\n",
    "runs_txt = [\"run_3\",\"run_4\",\"run_5\"]\n",
    "sections  =  ['17 1/2\"','12 1/4\"','8 1/2\"']\n",
    "info = list(zip(runs_txt,sections))\n",
    "info"
   ]
  },
  {
   "cell_type": "markdown",
   "metadata": {},
   "source": [
    "## Log standarization"
   ]
  },
  {
   "cell_type": "markdown",
   "metadata": {},
   "source": [
    "Logs that are constant through the BHA\n",
    "* BPOS \n",
    "* BVEL\n",
    "* DateTime\n",
    "* ROP5\n",
    "* SWOB\n",
    "* HKLD\n",
    "* TQA\n",
    "* RPM\n",
    "* Stick_RT\n",
    "* TFLO\n",
    "* SPPA\n",
    "* SHKPK_RT\n",
    "* SHKRSK_RT \n",
    "* GMRAy"
   ]
  },
  {
   "cell_type": "code",
   "execution_count": 12,
   "metadata": {},
   "outputs": [
    {
     "name": "stdout",
     "output_type": "stream",
     "text": [
      "\n",
      " run_3\n",
      "Logs:\n",
      " ['APRS_ARC' 'ARC_GR_RT' 'ATMP' 'BPOS' 'BVEL' 'DEPT' 'DateTime' 'ECD_ARC'\n",
      " 'HKLD' 'INCL_CONT_RT' 'PDINCL' 'PDSHKRSK' 'PD_GRAV_BHC' 'ROP5' 'RPM'\n",
      " 'Run' 'SHK2_RT' 'SHKRSK_RT' 'SHK_ADN_RT' 'SWOB' 'TFLO' 'TQA' 'Well']\n",
      "\n",
      " run_4\n",
      "Logs:\n",
      " ['APRS_ARC' 'ARC_GR_RT' 'ATMP' 'BPOS' 'BVEL' 'DEPT' 'DateTime' 'ECD_ARC'\n",
      " 'HKLD' 'INCL_CONT_RT' 'PDINCL' 'PDSHKRSK' 'PD_GRAV_BHC' 'ROP5' 'RPM'\n",
      " 'Run' 'SHK2_RT' 'SHKRSK_RT' 'SHK_ADN_RT' 'SWOB' 'TFLO' 'TQA' 'Well']\n",
      "\n",
      " run_5\n",
      "Logs:\n",
      " ['ARC_GR_RT' 'ATMP' 'BPOS' 'BVEL' 'DEPT' 'DateTime' 'ECD_ARC' 'HKLD'\n",
      " 'INCL_CONT_RT' 'PDINCL' 'PDSHKRSK' 'PD_GRAV_BHC' 'ROP5' 'RPM' 'Run'\n",
      " 'SHK2_RT' 'SHKRSK_RT' 'SHK_ADN_RT' 'SWOB' 'TFLO' 'TQA' 'Well']\n"
     ]
    }
   ],
   "source": [
    "i = 0 \n",
    "for run in runs:\n",
    "    print(\"\\n\",runs_txt[i])\n",
    "    run.drop([\"TRPM_RT\",\"Flag\",\"BONB\",\"HDTH\"],inplace=True,axis=1)\n",
    "    print(\"Logs:\\n\",np.sort(run.columns.values))\n",
    "    i+=1\n",
    "    "
   ]
  },
  {
   "cell_type": "code",
   "execution_count": 13,
   "metadata": {},
   "outputs": [
    {
     "ename": "KeyError",
     "evalue": "\"['BDTI' 'CRPM_RT' 'SHKPK_RT' 'SHK_ISONIC_RT'] not found in axis\"",
     "output_type": "error",
     "traceback": [
      "\u001b[0;31m---------------------------------------------------------------------------\u001b[0m",
      "\u001b[0;31mKeyError\u001b[0m                                  Traceback (most recent call last)",
      "\u001b[0;32m<ipython-input-13-9668bbadd349>\u001b[0m in \u001b[0;36m<module>\u001b[0;34m\u001b[0m\n\u001b[0;32m----> 1\u001b[0;31m \u001b[0mruns\u001b[0m\u001b[0;34m[\u001b[0m\u001b[0;36m0\u001b[0m\u001b[0;34m]\u001b[0m\u001b[0;34m.\u001b[0m\u001b[0mdrop\u001b[0m\u001b[0;34m(\u001b[0m\u001b[0;34m[\u001b[0m\u001b[0;34m'APRS_ARC'\u001b[0m\u001b[0;34m,\u001b[0m\u001b[0;34m'ATMP'\u001b[0m\u001b[0;34m,\u001b[0m\u001b[0;34m'BDTI'\u001b[0m\u001b[0;34m,\u001b[0m\u001b[0;34m'CRPM_RT'\u001b[0m\u001b[0;34m,\u001b[0m\u001b[0;34m'ECD_ARC'\u001b[0m\u001b[0;34m,\u001b[0m\u001b[0;34m'PDSHKRSK'\u001b[0m\u001b[0;34m,\u001b[0m\u001b[0;34m'SHK2_RT'\u001b[0m\u001b[0;34m,\u001b[0m\u001b[0;34m'SHKPK_RT'\u001b[0m\u001b[0;34m,\u001b[0m\u001b[0;34m'SHKRSK_RT'\u001b[0m\u001b[0;34m,\u001b[0m\u001b[0;34m'SHK_ISONIC_RT'\u001b[0m\u001b[0;34m]\u001b[0m\u001b[0;34m,\u001b[0m\u001b[0maxis\u001b[0m\u001b[0;34m=\u001b[0m\u001b[0;36m1\u001b[0m\u001b[0;34m,\u001b[0m\u001b[0minplace\u001b[0m\u001b[0;34m=\u001b[0m\u001b[0;32mTrue\u001b[0m\u001b[0;34m)\u001b[0m\u001b[0;34m\u001b[0m\u001b[0;34m\u001b[0m\u001b[0m\n\u001b[0m\u001b[1;32m      2\u001b[0m \u001b[0mruns\u001b[0m\u001b[0;34m[\u001b[0m\u001b[0;36m1\u001b[0m\u001b[0;34m]\u001b[0m\u001b[0;34m.\u001b[0m\u001b[0mdrop\u001b[0m\u001b[0;34m(\u001b[0m\u001b[0;34m[\u001b[0m\u001b[0;34m'APRS_ARC'\u001b[0m\u001b[0;34m,\u001b[0m\u001b[0;34m'ATMP'\u001b[0m\u001b[0;34m,\u001b[0m\u001b[0;34m'ECD_ARC'\u001b[0m\u001b[0;34m,\u001b[0m\u001b[0;34m'SHK2_RT'\u001b[0m\u001b[0;34m,\u001b[0m\u001b[0;34m'SHKRSK_RT'\u001b[0m\u001b[0;34m,\u001b[0m\u001b[0;34m'SPM1'\u001b[0m\u001b[0;34m,\u001b[0m\u001b[0;34m'SPM2'\u001b[0m\u001b[0;34m,\u001b[0m\u001b[0;34m'SPM3'\u001b[0m\u001b[0;34m]\u001b[0m\u001b[0;34m,\u001b[0m\u001b[0maxis\u001b[0m\u001b[0;34m=\u001b[0m\u001b[0;36m1\u001b[0m\u001b[0;34m,\u001b[0m\u001b[0minplace\u001b[0m\u001b[0;34m=\u001b[0m\u001b[0;32mTrue\u001b[0m\u001b[0;34m)\u001b[0m\u001b[0;34m\u001b[0m\u001b[0;34m\u001b[0m\u001b[0m\n\u001b[1;32m      3\u001b[0m \u001b[0mruns\u001b[0m\u001b[0;34m[\u001b[0m\u001b[0;36m2\u001b[0m\u001b[0;34m]\u001b[0m\u001b[0;34m.\u001b[0m\u001b[0mdrop\u001b[0m\u001b[0;34m(\u001b[0m\u001b[0;34m[\u001b[0m\u001b[0;34m'CRPM_RT'\u001b[0m\u001b[0;34m,\u001b[0m\u001b[0;34m'CRS_CNINC'\u001b[0m\u001b[0;34m,\u001b[0m\u001b[0;34m'DHAP'\u001b[0m\u001b[0;34m,\u001b[0m\u001b[0;34m'DHAT'\u001b[0m\u001b[0;34m,\u001b[0m\u001b[0;34m'ECD'\u001b[0m\u001b[0;34m,\u001b[0m\u001b[0;34m'INCL_CONT_RT'\u001b[0m\u001b[0;34m,\u001b[0m\u001b[0;34m'SHKPK_RT'\u001b[0m\u001b[0;34m,\u001b[0m\u001b[0;34m'SHKRSK_RT'\u001b[0m\u001b[0;34m,\u001b[0m\u001b[0;34m'SPM1'\u001b[0m\u001b[0;34m,\u001b[0m\u001b[0;34m'SPM2'\u001b[0m\u001b[0;34m,\u001b[0m\u001b[0;34m'SPM3'\u001b[0m\u001b[0;34m]\u001b[0m\u001b[0;34m,\u001b[0m\u001b[0maxis\u001b[0m\u001b[0;34m=\u001b[0m\u001b[0;36m1\u001b[0m\u001b[0;34m,\u001b[0m\u001b[0minplace\u001b[0m\u001b[0;34m=\u001b[0m\u001b[0;32mTrue\u001b[0m\u001b[0;34m)\u001b[0m\u001b[0;34m\u001b[0m\u001b[0;34m\u001b[0m\u001b[0m\n",
      "\u001b[0;32m~/anaconda3/lib/python3.8/site-packages/pandas/core/frame.py\u001b[0m in \u001b[0;36mdrop\u001b[0;34m(self, labels, axis, index, columns, level, inplace, errors)\u001b[0m\n\u001b[1;32m   4161\u001b[0m                 \u001b[0mweight\u001b[0m  \u001b[0;36m1.0\u001b[0m     \u001b[0;36m0.8\u001b[0m\u001b[0;34m\u001b[0m\u001b[0;34m\u001b[0m\u001b[0m\n\u001b[1;32m   4162\u001b[0m         \"\"\"\n\u001b[0;32m-> 4163\u001b[0;31m         return super().drop(\n\u001b[0m\u001b[1;32m   4164\u001b[0m             \u001b[0mlabels\u001b[0m\u001b[0;34m=\u001b[0m\u001b[0mlabels\u001b[0m\u001b[0;34m,\u001b[0m\u001b[0;34m\u001b[0m\u001b[0;34m\u001b[0m\u001b[0m\n\u001b[1;32m   4165\u001b[0m             \u001b[0maxis\u001b[0m\u001b[0;34m=\u001b[0m\u001b[0maxis\u001b[0m\u001b[0;34m,\u001b[0m\u001b[0;34m\u001b[0m\u001b[0;34m\u001b[0m\u001b[0m\n",
      "\u001b[0;32m~/anaconda3/lib/python3.8/site-packages/pandas/core/generic.py\u001b[0m in \u001b[0;36mdrop\u001b[0;34m(self, labels, axis, index, columns, level, inplace, errors)\u001b[0m\n\u001b[1;32m   3885\u001b[0m         \u001b[0;32mfor\u001b[0m \u001b[0maxis\u001b[0m\u001b[0;34m,\u001b[0m \u001b[0mlabels\u001b[0m \u001b[0;32min\u001b[0m \u001b[0maxes\u001b[0m\u001b[0;34m.\u001b[0m\u001b[0mitems\u001b[0m\u001b[0;34m(\u001b[0m\u001b[0;34m)\u001b[0m\u001b[0;34m:\u001b[0m\u001b[0;34m\u001b[0m\u001b[0;34m\u001b[0m\u001b[0m\n\u001b[1;32m   3886\u001b[0m             \u001b[0;32mif\u001b[0m \u001b[0mlabels\u001b[0m \u001b[0;32mis\u001b[0m \u001b[0;32mnot\u001b[0m \u001b[0;32mNone\u001b[0m\u001b[0;34m:\u001b[0m\u001b[0;34m\u001b[0m\u001b[0;34m\u001b[0m\u001b[0m\n\u001b[0;32m-> 3887\u001b[0;31m                 \u001b[0mobj\u001b[0m \u001b[0;34m=\u001b[0m \u001b[0mobj\u001b[0m\u001b[0;34m.\u001b[0m\u001b[0m_drop_axis\u001b[0m\u001b[0;34m(\u001b[0m\u001b[0mlabels\u001b[0m\u001b[0;34m,\u001b[0m \u001b[0maxis\u001b[0m\u001b[0;34m,\u001b[0m \u001b[0mlevel\u001b[0m\u001b[0;34m=\u001b[0m\u001b[0mlevel\u001b[0m\u001b[0;34m,\u001b[0m \u001b[0merrors\u001b[0m\u001b[0;34m=\u001b[0m\u001b[0merrors\u001b[0m\u001b[0;34m)\u001b[0m\u001b[0;34m\u001b[0m\u001b[0;34m\u001b[0m\u001b[0m\n\u001b[0m\u001b[1;32m   3888\u001b[0m \u001b[0;34m\u001b[0m\u001b[0m\n\u001b[1;32m   3889\u001b[0m         \u001b[0;32mif\u001b[0m \u001b[0minplace\u001b[0m\u001b[0;34m:\u001b[0m\u001b[0;34m\u001b[0m\u001b[0;34m\u001b[0m\u001b[0m\n",
      "\u001b[0;32m~/anaconda3/lib/python3.8/site-packages/pandas/core/generic.py\u001b[0m in \u001b[0;36m_drop_axis\u001b[0;34m(self, labels, axis, level, errors)\u001b[0m\n\u001b[1;32m   3919\u001b[0m                 \u001b[0mnew_axis\u001b[0m \u001b[0;34m=\u001b[0m \u001b[0maxis\u001b[0m\u001b[0;34m.\u001b[0m\u001b[0mdrop\u001b[0m\u001b[0;34m(\u001b[0m\u001b[0mlabels\u001b[0m\u001b[0;34m,\u001b[0m \u001b[0mlevel\u001b[0m\u001b[0;34m=\u001b[0m\u001b[0mlevel\u001b[0m\u001b[0;34m,\u001b[0m \u001b[0merrors\u001b[0m\u001b[0;34m=\u001b[0m\u001b[0merrors\u001b[0m\u001b[0;34m)\u001b[0m\u001b[0;34m\u001b[0m\u001b[0;34m\u001b[0m\u001b[0m\n\u001b[1;32m   3920\u001b[0m             \u001b[0;32melse\u001b[0m\u001b[0;34m:\u001b[0m\u001b[0;34m\u001b[0m\u001b[0;34m\u001b[0m\u001b[0m\n\u001b[0;32m-> 3921\u001b[0;31m                 \u001b[0mnew_axis\u001b[0m \u001b[0;34m=\u001b[0m \u001b[0maxis\u001b[0m\u001b[0;34m.\u001b[0m\u001b[0mdrop\u001b[0m\u001b[0;34m(\u001b[0m\u001b[0mlabels\u001b[0m\u001b[0;34m,\u001b[0m \u001b[0merrors\u001b[0m\u001b[0;34m=\u001b[0m\u001b[0merrors\u001b[0m\u001b[0;34m)\u001b[0m\u001b[0;34m\u001b[0m\u001b[0;34m\u001b[0m\u001b[0m\n\u001b[0m\u001b[1;32m   3922\u001b[0m             \u001b[0mresult\u001b[0m \u001b[0;34m=\u001b[0m \u001b[0mself\u001b[0m\u001b[0;34m.\u001b[0m\u001b[0mreindex\u001b[0m\u001b[0;34m(\u001b[0m\u001b[0;34m**\u001b[0m\u001b[0;34m{\u001b[0m\u001b[0maxis_name\u001b[0m\u001b[0;34m:\u001b[0m \u001b[0mnew_axis\u001b[0m\u001b[0;34m}\u001b[0m\u001b[0;34m)\u001b[0m\u001b[0;34m\u001b[0m\u001b[0;34m\u001b[0m\u001b[0m\n\u001b[1;32m   3923\u001b[0m \u001b[0;34m\u001b[0m\u001b[0m\n",
      "\u001b[0;32m~/anaconda3/lib/python3.8/site-packages/pandas/core/indexes/base.py\u001b[0m in \u001b[0;36mdrop\u001b[0;34m(self, labels, errors)\u001b[0m\n\u001b[1;32m   5280\u001b[0m         \u001b[0;32mif\u001b[0m \u001b[0mmask\u001b[0m\u001b[0;34m.\u001b[0m\u001b[0many\u001b[0m\u001b[0;34m(\u001b[0m\u001b[0;34m)\u001b[0m\u001b[0;34m:\u001b[0m\u001b[0;34m\u001b[0m\u001b[0;34m\u001b[0m\u001b[0m\n\u001b[1;32m   5281\u001b[0m             \u001b[0;32mif\u001b[0m \u001b[0merrors\u001b[0m \u001b[0;34m!=\u001b[0m \u001b[0;34m\"ignore\"\u001b[0m\u001b[0;34m:\u001b[0m\u001b[0;34m\u001b[0m\u001b[0;34m\u001b[0m\u001b[0m\n\u001b[0;32m-> 5282\u001b[0;31m                 \u001b[0;32mraise\u001b[0m \u001b[0mKeyError\u001b[0m\u001b[0;34m(\u001b[0m\u001b[0;34mf\"{labels[mask]} not found in axis\"\u001b[0m\u001b[0;34m)\u001b[0m\u001b[0;34m\u001b[0m\u001b[0;34m\u001b[0m\u001b[0m\n\u001b[0m\u001b[1;32m   5283\u001b[0m             \u001b[0mindexer\u001b[0m \u001b[0;34m=\u001b[0m \u001b[0mindexer\u001b[0m\u001b[0;34m[\u001b[0m\u001b[0;34m~\u001b[0m\u001b[0mmask\u001b[0m\u001b[0;34m]\u001b[0m\u001b[0;34m\u001b[0m\u001b[0;34m\u001b[0m\u001b[0m\n\u001b[1;32m   5284\u001b[0m         \u001b[0;32mreturn\u001b[0m \u001b[0mself\u001b[0m\u001b[0;34m.\u001b[0m\u001b[0mdelete\u001b[0m\u001b[0;34m(\u001b[0m\u001b[0mindexer\u001b[0m\u001b[0;34m)\u001b[0m\u001b[0;34m\u001b[0m\u001b[0;34m\u001b[0m\u001b[0m\n",
      "\u001b[0;31mKeyError\u001b[0m: \"['BDTI' 'CRPM_RT' 'SHKPK_RT' 'SHK_ISONIC_RT'] not found in axis\""
     ]
    }
   ],
   "source": [
    "runs[0].drop(['APRS_ARC','ATMP','BDTI','CRPM_RT','ECD_ARC','PDSHKRSK','SHK2_RT','SHKPK_RT','SHKRSK_RT','SHK_ISONIC_RT'],axis=1,inplace=True)\n",
    "runs[1].drop(['APRS_ARC','ATMP','ECD_ARC','SHK2_RT','SHKRSK_RT','SPM1','SPM2','SPM3'],axis=1,inplace=True)\n",
    "runs[2].drop(['CRPM_RT','CRS_CNINC','DHAP','DHAT','ECD','INCL_CONT_RT','SHKPK_RT','SHKRSK_RT','SPM1','SPM2','SPM3'],axis=1,inplace=True)"
   ]
  },
  {
   "cell_type": "code",
   "execution_count": null,
   "metadata": {},
   "outputs": [],
   "source": [
    "i = 0 \n",
    "for run in runs:\n",
    "    print(\"\\n\",runs_txt[i])\n",
    "    print(\"Logs:\\n\",np.sort(run.columns.values))\n",
    "    i+=1"
   ]
  },
  {
   "cell_type": "code",
   "execution_count": null,
   "metadata": {},
   "outputs": [],
   "source": [
    "runs[0].rename({'ARC_GR_UNC_RT':\"GR\"},axis=1,inplace=True)\n",
    "runs[1].rename({'ARC_GR_RT':'GR'},axis=1,inplace=True)\n",
    "runs[2].rename({'GRMA_BHC_RT':\"GR\"},axis=1,inplace=True)"
   ]
  },
  {
   "cell_type": "code",
   "execution_count": null,
   "metadata": {},
   "outputs": [],
   "source": [
    "for run in runs:\n",
    "    cols = ['BPOS', 'BVEL', 'DEPT', 'DateTime','GR', 'HKLD', 'ROP5','RPM', 'Run', 'SPPA', 'SWOB', 'Stick_RT','TFLO', 'TQA', 'Well']\n",
    "    run = run.reindex(columns=cols)"
   ]
  },
  {
   "cell_type": "code",
   "execution_count": null,
   "metadata": {},
   "outputs": [],
   "source": [
    "i = 0 \n",
    "for run in runs:\n",
    "    print(\"\\n\",runs_txt[i])\n",
    "    print(\"Logs:\\n\",np.sort(run.columns.values))\n",
    "    i+=1"
   ]
  },
  {
   "cell_type": "code",
   "execution_count": null,
   "metadata": {},
   "outputs": [],
   "source": [
    "sc.boxplt_logs(runs,\"GR\",\"Gamma Ray\",info)"
   ]
  },
  {
   "cell_type": "code",
   "execution_count": null,
   "metadata": {},
   "outputs": [],
   "source": [
    "cols = runs[0].columns.difference([\"DateTime\",\"Run\",\"Well\"])"
   ]
  },
  {
   "cell_type": "code",
   "execution_count": null,
   "metadata": {},
   "outputs": [],
   "source": [
    "cols"
   ]
  },
  {
   "cell_type": "code",
   "execution_count": null,
   "metadata": {
    "scrolled": false
   },
   "outputs": [],
   "source": [
    "i = 0\n",
    "for log in cols:\n",
    "    sc.boxplt_logs(runs,cols[i],cols[i],info)\n",
    "    i+=1"
   ]
  },
  {
   "cell_type": "markdown",
   "metadata": {},
   "source": [
    "## Concatenating"
   ]
  },
  {
   "cell_type": "code",
   "execution_count": null,
   "metadata": {},
   "outputs": [],
   "source": [
    "df = pd.concat(runs)"
   ]
  },
  {
   "cell_type": "code",
   "execution_count": null,
   "metadata": {},
   "outputs": [],
   "source": [
    "df.info()"
   ]
  },
  {
   "cell_type": "code",
   "execution_count": null,
   "metadata": {},
   "outputs": [],
   "source": [
    "df[\"DateTime\"] = pd.to_datetime(df[\"DateTime\"])\n",
    "cols = df.columns.difference([\"Run\",\"Well\"])\n",
    "plt_df = pd.DataFrame(df,columns = cols)"
   ]
  },
  {
   "cell_type": "code",
   "execution_count": null,
   "metadata": {},
   "outputs": [],
   "source": [
    "%%time\n",
    "sc.well_plt(plt_df,[\"Whole\",\"Whole\"])"
   ]
  },
  {
   "cell_type": "raw",
   "metadata": {},
   "source": [
    "df.to_csv(r\"WellboreF14.csv\",index=False)"
   ]
  },
  {
   "cell_type": "code",
   "execution_count": null,
   "metadata": {},
   "outputs": [],
   "source": []
  }
 ],
 "metadata": {
  "kernelspec": {
   "display_name": "Python 3",
   "language": "python",
   "name": "python3"
  },
  "language_info": {
   "codemirror_mode": {
    "name": "ipython",
    "version": 3
   },
   "file_extension": ".py",
   "mimetype": "text/x-python",
   "name": "python",
   "nbconvert_exporter": "python",
   "pygments_lexer": "ipython3",
   "version": "3.8.5"
  }
 },
 "nbformat": 4,
 "nbformat_minor": 4
}
