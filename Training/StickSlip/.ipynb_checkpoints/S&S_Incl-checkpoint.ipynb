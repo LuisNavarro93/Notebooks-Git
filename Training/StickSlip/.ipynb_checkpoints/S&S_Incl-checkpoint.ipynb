{
 "cells": [
  {
   "cell_type": "code",
   "execution_count": 1,
   "metadata": {},
   "outputs": [
    {
     "name": "stdout",
     "output_type": "stream",
     "text": [
      "/home/luis/Desktop/Tesis/Notebooks-Git\n"
     ]
    }
   ],
   "source": [
    "cd ~/Desktop/Tesis/Notebooks-Git"
   ]
  },
  {
   "cell_type": "code",
   "execution_count": 2,
   "metadata": {},
   "outputs": [],
   "source": [
    "import Script as sc"
   ]
  },
  {
   "cell_type": "markdown",
   "metadata": {},
   "source": [
    "# Stick&Slip analysis"
   ]
  },
  {
   "cell_type": "code",
   "execution_count": 3,
   "metadata": {},
   "outputs": [
    {
     "name": "stdout",
     "output_type": "stream",
     "text": [
      "/home/luis/Desktop/Tesis/Notebooks-Git/Training/StickSlip\n"
     ]
    }
   ],
   "source": [
    "cd ~/Desktop/Tesis/Notebooks-Git/Training/StickSlip"
   ]
  },
  {
   "cell_type": "code",
   "execution_count": 4,
   "metadata": {},
   "outputs": [],
   "source": [
    "import pandas as pd\n",
    "import seaborn as sns\n",
    "import numpy as np\n",
    "import matplotlib.pyplot as plt\n",
    "plt.style.use('seaborn-darkgrid')"
   ]
  },
  {
   "cell_type": "code",
   "execution_count": 5,
   "metadata": {},
   "outputs": [],
   "source": [
    "df = pd.read_csv(\"/home/luis/Desktop/Tesis/Notebooks-Git/Training/TrainingV1_Incl.csv\")"
   ]
  },
  {
   "cell_type": "code",
   "execution_count": 6,
   "metadata": {},
   "outputs": [
    {
     "name": "stdout",
     "output_type": "stream",
     "text": [
      "<class 'pandas.core.frame.DataFrame'>\n",
      "RangeIndex: 10893 entries, 0 to 10892\n",
      "Data columns (total 21 columns):\n",
      " #   Column    Non-Null Count  Dtype  \n",
      "---  ------    --------------  -----  \n",
      " 0   BPOS      10893 non-null  float64\n",
      " 1   BVEL      10893 non-null  float64\n",
      " 2   DEPT      10893 non-null  float64\n",
      " 3   DateTime  10893 non-null  object \n",
      " 4   GR        10835 non-null  float64\n",
      " 5   HKLD      10893 non-null  float64\n",
      " 6   ROP5      10610 non-null  float64\n",
      " 7   RPM       10893 non-null  float64\n",
      " 8   Run       10893 non-null  object \n",
      " 9   SPPA      10893 non-null  float64\n",
      " 10  SWOB      10893 non-null  float64\n",
      " 11  Stick_RT  10893 non-null  float64\n",
      " 12  TFLO      10893 non-null  float64\n",
      " 13  TQA       10893 non-null  float64\n",
      " 14  Well      10893 non-null  object \n",
      " 15  azi       10893 non-null  float64\n",
      " 16  dispEw    10893 non-null  float64\n",
      " 17  dispNs    10893 non-null  float64\n",
      " 18  dls       10893 non-null  float64\n",
      " 19  incl      10893 non-null  float64\n",
      " 20  tvd       10893 non-null  float64\n",
      "dtypes: float64(18), object(3)\n",
      "memory usage: 1.7+ MB\n"
     ]
    }
   ],
   "source": [
    "df.info()"
   ]
  },
  {
   "cell_type": "code",
   "execution_count": 7,
   "metadata": {},
   "outputs": [
    {
     "data": {
      "text/html": [
       "<div>\n",
       "<style scoped>\n",
       "    .dataframe tbody tr th:only-of-type {\n",
       "        vertical-align: middle;\n",
       "    }\n",
       "\n",
       "    .dataframe tbody tr th {\n",
       "        vertical-align: top;\n",
       "    }\n",
       "\n",
       "    .dataframe thead th {\n",
       "        text-align: right;\n",
       "    }\n",
       "</style>\n",
       "<table border=\"1\" class=\"dataframe\">\n",
       "  <thead>\n",
       "    <tr style=\"text-align: right;\">\n",
       "      <th></th>\n",
       "      <th>count</th>\n",
       "      <th>mean</th>\n",
       "      <th>std</th>\n",
       "      <th>min</th>\n",
       "      <th>25%</th>\n",
       "      <th>50%</th>\n",
       "      <th>75%</th>\n",
       "      <th>max</th>\n",
       "    </tr>\n",
       "  </thead>\n",
       "  <tbody>\n",
       "    <tr>\n",
       "      <th>BPOS</th>\n",
       "      <td>10893.0</td>\n",
       "      <td>22.119667</td>\n",
       "      <td>11.196383</td>\n",
       "      <td>-1.457400</td>\n",
       "      <td>14.992600</td>\n",
       "      <td>22.500000</td>\n",
       "      <td>30.293200</td>\n",
       "      <td>50.142800</td>\n",
       "    </tr>\n",
       "    <tr>\n",
       "      <th>BVEL</th>\n",
       "      <td>10893.0</td>\n",
       "      <td>1.928094</td>\n",
       "      <td>7.054841</td>\n",
       "      <td>-44.915400</td>\n",
       "      <td>0.000600</td>\n",
       "      <td>0.002800</td>\n",
       "      <td>0.008100</td>\n",
       "      <td>55.346300</td>\n",
       "    </tr>\n",
       "    <tr>\n",
       "      <th>DEPT</th>\n",
       "      <td>10893.0</td>\n",
       "      <td>2793.129716</td>\n",
       "      <td>989.609160</td>\n",
       "      <td>210.000000</td>\n",
       "      <td>2297.000000</td>\n",
       "      <td>3140.000000</td>\n",
       "      <td>3500.000000</td>\n",
       "      <td>5300.000000</td>\n",
       "    </tr>\n",
       "    <tr>\n",
       "      <th>GR</th>\n",
       "      <td>10835.0</td>\n",
       "      <td>47.935541</td>\n",
       "      <td>54.559587</td>\n",
       "      <td>0.000000</td>\n",
       "      <td>6.552950</td>\n",
       "      <td>30.030600</td>\n",
       "      <td>72.606200</td>\n",
       "      <td>1111.850800</td>\n",
       "    </tr>\n",
       "    <tr>\n",
       "      <th>HKLD</th>\n",
       "      <td>10893.0</td>\n",
       "      <td>130.628518</td>\n",
       "      <td>17.839046</td>\n",
       "      <td>66.544000</td>\n",
       "      <td>125.521900</td>\n",
       "      <td>132.281600</td>\n",
       "      <td>139.283100</td>\n",
       "      <td>176.215700</td>\n",
       "    </tr>\n",
       "    <tr>\n",
       "      <th>ROP5</th>\n",
       "      <td>10610.0</td>\n",
       "      <td>15.305833</td>\n",
       "      <td>15.387170</td>\n",
       "      <td>0.726100</td>\n",
       "      <td>3.944900</td>\n",
       "      <td>10.037200</td>\n",
       "      <td>24.279500</td>\n",
       "      <td>270.099700</td>\n",
       "    </tr>\n",
       "    <tr>\n",
       "      <th>RPM</th>\n",
       "      <td>10893.0</td>\n",
       "      <td>155.361058</td>\n",
       "      <td>37.801758</td>\n",
       "      <td>29.000000</td>\n",
       "      <td>140.000000</td>\n",
       "      <td>168.000000</td>\n",
       "      <td>177.000000</td>\n",
       "      <td>262.000000</td>\n",
       "    </tr>\n",
       "    <tr>\n",
       "      <th>SPPA</th>\n",
       "      <td>10893.0</td>\n",
       "      <td>196.229974</td>\n",
       "      <td>35.900430</td>\n",
       "      <td>1.301400</td>\n",
       "      <td>184.208100</td>\n",
       "      <td>191.781900</td>\n",
       "      <td>222.877000</td>\n",
       "      <td>284.440200</td>\n",
       "    </tr>\n",
       "    <tr>\n",
       "      <th>SWOB</th>\n",
       "      <td>10893.0</td>\n",
       "      <td>6.487377</td>\n",
       "      <td>4.439813</td>\n",
       "      <td>-10.908700</td>\n",
       "      <td>3.600600</td>\n",
       "      <td>5.970000</td>\n",
       "      <td>8.251000</td>\n",
       "      <td>24.070000</td>\n",
       "    </tr>\n",
       "    <tr>\n",
       "      <th>Stick_RT</th>\n",
       "      <td>10893.0</td>\n",
       "      <td>48.770036</td>\n",
       "      <td>63.240049</td>\n",
       "      <td>0.000000</td>\n",
       "      <td>12.000000</td>\n",
       "      <td>27.000000</td>\n",
       "      <td>60.000000</td>\n",
       "      <td>381.000000</td>\n",
       "    </tr>\n",
       "    <tr>\n",
       "      <th>TFLO</th>\n",
       "      <td>10893.0</td>\n",
       "      <td>3013.230880</td>\n",
       "      <td>767.671125</td>\n",
       "      <td>797.571400</td>\n",
       "      <td>2364.506900</td>\n",
       "      <td>3145.976200</td>\n",
       "      <td>3500.452200</td>\n",
       "      <td>4533.732300</td>\n",
       "    </tr>\n",
       "    <tr>\n",
       "      <th>TQA</th>\n",
       "      <td>10893.0</td>\n",
       "      <td>16.998852</td>\n",
       "      <td>6.021859</td>\n",
       "      <td>-2.119200</td>\n",
       "      <td>13.423100</td>\n",
       "      <td>18.899400</td>\n",
       "      <td>20.694300</td>\n",
       "      <td>34.705100</td>\n",
       "    </tr>\n",
       "    <tr>\n",
       "      <th>azi</th>\n",
       "      <td>10893.0</td>\n",
       "      <td>111.202592</td>\n",
       "      <td>47.434335</td>\n",
       "      <td>0.289201</td>\n",
       "      <td>114.050000</td>\n",
       "      <td>121.970000</td>\n",
       "      <td>123.790000</td>\n",
       "      <td>275.090000</td>\n",
       "    </tr>\n",
       "    <tr>\n",
       "      <th>dispEw</th>\n",
       "      <td>10893.0</td>\n",
       "      <td>965.012376</td>\n",
       "      <td>631.058090</td>\n",
       "      <td>-17.763507</td>\n",
       "      <td>385.303648</td>\n",
       "      <td>1054.505441</td>\n",
       "      <td>1516.779941</td>\n",
       "      <td>2921.301765</td>\n",
       "    </tr>\n",
       "    <tr>\n",
       "      <th>dispNs</th>\n",
       "      <td>10893.0</td>\n",
       "      <td>-570.824281</td>\n",
       "      <td>451.412197</td>\n",
       "      <td>-2009.392569</td>\n",
       "      <td>-967.760971</td>\n",
       "      <td>-602.671179</td>\n",
       "      <td>-213.288981</td>\n",
       "      <td>322.151166</td>\n",
       "    </tr>\n",
       "    <tr>\n",
       "      <th>dls</th>\n",
       "      <td>10893.0</td>\n",
       "      <td>0.037101</td>\n",
       "      <td>0.036023</td>\n",
       "      <td>0.000000</td>\n",
       "      <td>0.008940</td>\n",
       "      <td>0.025020</td>\n",
       "      <td>0.059226</td>\n",
       "      <td>0.149790</td>\n",
       "    </tr>\n",
       "    <tr>\n",
       "      <th>incl</th>\n",
       "      <td>10893.0</td>\n",
       "      <td>50.022931</td>\n",
       "      <td>33.043991</td>\n",
       "      <td>0.060000</td>\n",
       "      <td>24.230000</td>\n",
       "      <td>50.830000</td>\n",
       "      <td>85.850000</td>\n",
       "      <td>86.450000</td>\n",
       "    </tr>\n",
       "    <tr>\n",
       "      <th>tvd</th>\n",
       "      <td>10893.0</td>\n",
       "      <td>2315.156284</td>\n",
       "      <td>692.486631</td>\n",
       "      <td>209.999885</td>\n",
       "      <td>2177.694821</td>\n",
       "      <td>2640.820423</td>\n",
       "      <td>2661.123761</td>\n",
       "      <td>3246.431310</td>\n",
       "    </tr>\n",
       "  </tbody>\n",
       "</table>\n",
       "</div>"
      ],
      "text/plain": [
       "            count         mean         std          min          25%  \\\n",
       "BPOS      10893.0    22.119667   11.196383    -1.457400    14.992600   \n",
       "BVEL      10893.0     1.928094    7.054841   -44.915400     0.000600   \n",
       "DEPT      10893.0  2793.129716  989.609160   210.000000  2297.000000   \n",
       "GR        10835.0    47.935541   54.559587     0.000000     6.552950   \n",
       "HKLD      10893.0   130.628518   17.839046    66.544000   125.521900   \n",
       "ROP5      10610.0    15.305833   15.387170     0.726100     3.944900   \n",
       "RPM       10893.0   155.361058   37.801758    29.000000   140.000000   \n",
       "SPPA      10893.0   196.229974   35.900430     1.301400   184.208100   \n",
       "SWOB      10893.0     6.487377    4.439813   -10.908700     3.600600   \n",
       "Stick_RT  10893.0    48.770036   63.240049     0.000000    12.000000   \n",
       "TFLO      10893.0  3013.230880  767.671125   797.571400  2364.506900   \n",
       "TQA       10893.0    16.998852    6.021859    -2.119200    13.423100   \n",
       "azi       10893.0   111.202592   47.434335     0.289201   114.050000   \n",
       "dispEw    10893.0   965.012376  631.058090   -17.763507   385.303648   \n",
       "dispNs    10893.0  -570.824281  451.412197 -2009.392569  -967.760971   \n",
       "dls       10893.0     0.037101    0.036023     0.000000     0.008940   \n",
       "incl      10893.0    50.022931   33.043991     0.060000    24.230000   \n",
       "tvd       10893.0  2315.156284  692.486631   209.999885  2177.694821   \n",
       "\n",
       "                  50%          75%          max  \n",
       "BPOS        22.500000    30.293200    50.142800  \n",
       "BVEL         0.002800     0.008100    55.346300  \n",
       "DEPT      3140.000000  3500.000000  5300.000000  \n",
       "GR          30.030600    72.606200  1111.850800  \n",
       "HKLD       132.281600   139.283100   176.215700  \n",
       "ROP5        10.037200    24.279500   270.099700  \n",
       "RPM        168.000000   177.000000   262.000000  \n",
       "SPPA       191.781900   222.877000   284.440200  \n",
       "SWOB         5.970000     8.251000    24.070000  \n",
       "Stick_RT    27.000000    60.000000   381.000000  \n",
       "TFLO      3145.976200  3500.452200  4533.732300  \n",
       "TQA         18.899400    20.694300    34.705100  \n",
       "azi        121.970000   123.790000   275.090000  \n",
       "dispEw    1054.505441  1516.779941  2921.301765  \n",
       "dispNs    -602.671179  -213.288981   322.151166  \n",
       "dls          0.025020     0.059226     0.149790  \n",
       "incl        50.830000    85.850000    86.450000  \n",
       "tvd       2640.820423  2661.123761  3246.431310  "
      ]
     },
     "execution_count": 7,
     "metadata": {},
     "output_type": "execute_result"
    }
   ],
   "source": [
    "df.describe().transpose()"
   ]
  },
  {
   "cell_type": "raw",
   "metadata": {},
   "source": [
    "df.drop([\"DateTime\"],axis=1,inplace=True)"
   ]
  },
  {
   "cell_type": "code",
   "execution_count": 8,
   "metadata": {},
   "outputs": [
    {
     "data": {
      "image/png": "[encoded data removed]",
      "text/plain": [
       "<Figure size 1440x720 with 1 Axes>"
      ]
     },
     "metadata": {},
     "output_type": "display_data"
    }
   ],
   "source": [
    "sns.set(font_scale=1.5)\n",
    "plt.figure(figsize=(20,10))\n",
    "sns.violinplot(data=(df.drop([\"DateTime\"],axis=1)), x=\"Well\", y=\"Stick_RT\", hue=\"Run\",inner=\"quart\", linewidth=1)\n",
    "sns.despine(left=True)"
   ]
  },
  {
   "cell_type": "markdown",
   "metadata": {},
   "source": [
    "## Section identifier per well"
   ]
  },
  {
   "cell_type": "code",
   "execution_count": null,
   "metadata": {},
   "outputs": [],
   "source": [
    "df_f4 = df[df[\"Well\"]==\"F-4\"]"
   ]
  },
  {
   "cell_type": "code",
   "execution_count": null,
   "metadata": {},
   "outputs": [],
   "source": [
    "Runs = df_f4[\"Run\"].tolist()\n",
    "sections = []\n",
    "for element in Runs:\n",
    "    if element == \"run_2\":\n",
    "        v = '17 1/2\"' #Double check \n",
    "    elif element == \"run_3\":\n",
    "        v = '12 1/4\"'\n",
    "    elif (element == \"run_4\") or (element == \"run_5\"):\n",
    "        v = '8 1/2\"'\n",
    "    sections.append(v)"
   ]
  },
  {
   "cell_type": "code",
   "execution_count": null,
   "metadata": {},
   "outputs": [],
   "source": [
    "df_f4[\"Sections\"] = sections"
   ]
  },
  {
   "cell_type": "code",
   "execution_count": null,
   "metadata": {},
   "outputs": [],
   "source": [
    "df_f5 = df[df[\"Well\"]==\"F-5\"]"
   ]
  },
  {
   "cell_type": "code",
   "execution_count": null,
   "metadata": {},
   "outputs": [],
   "source": [
    "Runs = df_f5[\"Run\"].tolist()\n",
    "sections = []\n",
    "for element in Runs:\n",
    "    if element == \"run_2\":\n",
    "        v = '17 1/2\"'\n",
    "    elif element == \"run_3\":\n",
    "        v = '12 1/4\"'\n",
    "    elif (element == \"run_4\") or (element == \"run_5\"):\n",
    "        v = '8 1/2\"'\n",
    "    sections.append(v)"
   ]
  },
  {
   "cell_type": "code",
   "execution_count": null,
   "metadata": {},
   "outputs": [],
   "source": [
    "df_f5[\"Sections\"] = sections"
   ]
  },
  {
   "cell_type": "code",
   "execution_count": null,
   "metadata": {},
   "outputs": [],
   "source": [
    "df_f14 = df[df[\"Well\"]==\"F-14\"]"
   ]
  },
  {
   "cell_type": "code",
   "execution_count": null,
   "metadata": {},
   "outputs": [],
   "source": [
    "Runs = df_f14[\"Run\"].tolist()\n",
    "sections = []\n",
    "for element in Runs:\n",
    "    if element == \"run_3\":\n",
    "        v = '17 1/2\"'\n",
    "    elif element == \"run_4\":\n",
    "        v = '12 1/4\"'\n",
    "    elif element == \"run_5\":\n",
    "        v = '8 1/2\"'\n",
    "    sections.append(v)"
   ]
  },
  {
   "cell_type": "code",
   "execution_count": null,
   "metadata": {},
   "outputs": [],
   "source": [
    "df_f14[\"Sections\"] = sections"
   ]
  },
  {
   "cell_type": "code",
   "execution_count": null,
   "metadata": {},
   "outputs": [],
   "source": [
    "frames = [df_f4,df_f5,df_f14]\n",
    "df_mod = pd.concat(frames)"
   ]
  },
  {
   "cell_type": "code",
   "execution_count": null,
   "metadata": {},
   "outputs": [],
   "source": [
    "sns.set(font_scale=1.5)\n",
    "plt.figure(figsize=(20,10))\n",
    "sns.violinplot(data=(df_mod.drop([\"DateTime\"],axis=1)), x=\"Well\", y=\"Stick_RT\", hue=\"Sections\",inner=\"quart\", linewidth=1)\n",
    "plt.legend(loc=\"upper left\",title=\"Section\")\n",
    "sns.despine(left=True)"
   ]
  },
  {
   "cell_type": "markdown",
   "metadata": {},
   "source": [
    "## Stick & Slip Severity "
   ]
  },
  {
   "cell_type": "code",
   "execution_count": null,
   "metadata": {},
   "outputs": [],
   "source": [
    "df_ss = sc.ss_severity(df_mod)"
   ]
  },
  {
   "cell_type": "code",
   "execution_count": null,
   "metadata": {},
   "outputs": [],
   "source": [
    "df_ss.info()"
   ]
  },
  {
   "cell_type": "raw",
   "metadata": {},
   "source": [
    "%%time\n",
    "sns.pairplot(df_ss.dropna(), hue='ss_categorical_txt',height=4,vars=[\"SWOB\",\"RPM\",\"ROP5\",\"GR\",\"TFLO\",\"DEPT\"],\n",
    "             diag_kind = 'kde',corner=True)"
   ]
  },
  {
   "cell_type": "raw",
   "metadata": {},
   "source": [
    "%%time\n",
    "sns.pairplot(df_mod.dropna(), hue='ss_categorical_txt',height=4,vars=[\"SWOB\",\"RPM\",\"ROP5\",\"GR\",\"TFLO\",\"DEPT\"],\n",
    "             diag_kind = 'kde',corner=True)"
   ]
  },
  {
   "cell_type": "code",
   "execution_count": null,
   "metadata": {},
   "outputs": [],
   "source": [
    "df_mod = df_mod[df_mod[\"DEPT\"]>1000]"
   ]
  },
  {
   "cell_type": "code",
   "execution_count": null,
   "metadata": {},
   "outputs": [],
   "source": [
    "sc.depth_plts(df_mod,[\"SWOB\",\"RPM\",\"Stick_RT\",\"ss_severity\",\"ss_categorical\"])"
   ]
  },
  {
   "cell_type": "code",
   "execution_count": null,
   "metadata": {},
   "outputs": [],
   "source": [
    "sns.set(font_scale=1.5)\n",
    "plt.figure(figsize=(20,10))\n",
    "sns.violinplot(data=(df_mod.drop([\"DateTime\"],axis=1)), x=\"Well\", y=\"DEPT\", hue=\"ss_categorical_txt\",inner=\"quart\", linewidth=1)\n",
    "plt.gca().invert_yaxis()\n",
    "plt.legend(bbox_to_anchor=(1.05, 1), loc='upper left', borderaxespad=1,title=\"S&S Classification\")\n",
    "#sns.despine(left=True)"
   ]
  },
  {
   "cell_type": "raw",
   "metadata": {},
   "source": [
    "from scipy import stats\n",
    "plt.figure(figsize=(10,4))\n",
    "sns.jointplot(df_mod['DEPT'], df_mod['Stick_RT'],kind='kde',stat_func=stats.pearsonr)\n",
    "plt.show()"
   ]
  },
  {
   "cell_type": "code",
   "execution_count": null,
   "metadata": {},
   "outputs": [],
   "source": [
    "df_mod.columns"
   ]
  },
  {
   "cell_type": "raw",
   "metadata": {},
   "source": [
    "%%time\n",
    "plt.figure(figsize=(10,13))\n",
    "sns.jointplot(data=df_mod,x='DEPT',y=\"Stick_RT\",hue=\"ss_categorical_txt\",kind='kde')\n",
    "plt.legend(bbox_to_anchor=(1.05, 1), loc='upper left', borderaxespad=1,title=\"S&S Classification\")"
   ]
  },
  {
   "cell_type": "code",
   "execution_count": null,
   "metadata": {},
   "outputs": [],
   "source": [
    "%%time\n",
    "sns.set(font_scale=.8)\n",
    "plt.figure(figsize=(10,6))\n",
    "sns.jointplot(data=df_mod,x='DEPT',y=\"Stick_RT\",hue=\"ss_categorical_txt\",kind='kde')\n",
    "plt.show()"
   ]
  },
  {
   "cell_type": "code",
   "execution_count": null,
   "metadata": {},
   "outputs": [],
   "source": [
    "%%time\n",
    "sns.set(font_scale=.8)\n",
    "plt.figure(figsize=(10,6))\n",
    "sns.jointplot(data=df_mod,x='RPM',y=\"SWOB\",hue=\"ss_categorical_txt\",kind='kde')\n",
    "plt.show()"
   ]
  },
  {
   "cell_type": "code",
   "execution_count": null,
   "metadata": {},
   "outputs": [],
   "source": [
    "df_mod[df_mod[\"SWOB\"] < -100]"
   ]
  },
  {
   "cell_type": "code",
   "execution_count": null,
   "metadata": {},
   "outputs": [],
   "source": [
    "df_mod.drop([df_mod.index[67570], df_ss.index[67569],df_ss.index[67571]],inplace=True)"
   ]
  },
  {
   "cell_type": "code",
   "execution_count": null,
   "metadata": {},
   "outputs": [],
   "source": [
    "df_mod[67570:67571]"
   ]
  },
  {
   "cell_type": "code",
   "execution_count": null,
   "metadata": {},
   "outputs": [],
   "source": [
    "df_mod.to_csv(r\"TrainingVss.csv\",index=False)"
   ]
  },
  {
   "cell_type": "code",
   "execution_count": null,
   "metadata": {},
   "outputs": [],
   "source": []
  }
 ],
 "metadata": {
  "kernelspec": {
   "display_name": "Python 3",
   "language": "python",
   "name": "python3"
  },
  "language_info": {
   "codemirror_mode": {
    "name": "ipython",
    "version": 3
   },
   "file_extension": ".py",
   "mimetype": "text/x-python",
   "name": "python",
   "nbconvert_exporter": "python",
   "pygments_lexer": "ipython3",
   "version": "3.8.5"
  }
 },
 "nbformat": 4,
 "nbformat_minor": 4
}
